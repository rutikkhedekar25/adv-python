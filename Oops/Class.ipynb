{
 "cells": [
  {
   "cell_type": "code",
   "execution_count": 1,
   "id": "f5c3906a",
   "metadata": {},
   "outputs": [
    {
     "name": "stdout",
     "output_type": "stream",
     "text": [
      "<class 'str'>\n"
     ]
    }
   ],
   "source": [
    "s = 'swara'\n",
    "print(type(s))"
   ]
  },
  {
   "cell_type": "code",
   "execution_count": 2,
   "id": "4f2423c9",
   "metadata": {},
   "outputs": [
    {
     "name": "stdout",
     "output_type": "stream",
     "text": [
      "<class 'int'>\n"
     ]
    }
   ],
   "source": [
    "i = 23\n",
    "print(type(i))"
   ]
  },
  {
   "cell_type": "code",
   "execution_count": 3,
   "id": "5664ee14",
   "metadata": {},
   "outputs": [
    {
     "name": "stdout",
     "output_type": "stream",
     "text": [
      "<class 'float'>\n"
     ]
    }
   ],
   "source": [
    "f = 2.3\n",
    "print(type(f))"
   ]
  },
  {
   "cell_type": "code",
   "execution_count": 6,
   "id": "2c32fe08",
   "metadata": {},
   "outputs": [
    {
     "name": "stdout",
     "output_type": "stream",
     "text": [
      "<class 'dict'>\n"
     ]
    }
   ],
   "source": [
    "d = {'name':['seeta', 'geeta', 'neeta','sunita'],\n",
    "'age' : [23,24,25,26]}\n",
    "print(type(d))"
   ]
  },
  {
   "cell_type": "code",
   "execution_count": 7,
   "id": "191203a7",
   "metadata": {},
   "outputs": [],
   "source": [
    "import pandas as pd"
   ]
  },
  {
   "cell_type": "code",
   "execution_count": 9,
   "id": "ad98c5a3",
   "metadata": {},
   "outputs": [],
   "source": [
    "df = pd.DataFrame(d)"
   ]
  },
  {
   "cell_type": "code",
   "execution_count": 10,
   "id": "e94cece1",
   "metadata": {},
   "outputs": [
    {
     "data": {
      "text/html": [
       "<div>\n",
       "<style scoped>\n",
       "    .dataframe tbody tr th:only-of-type {\n",
       "        vertical-align: middle;\n",
       "    }\n",
       "\n",
       "    .dataframe tbody tr th {\n",
       "        vertical-align: top;\n",
       "    }\n",
       "\n",
       "    .dataframe thead th {\n",
       "        text-align: right;\n",
       "    }\n",
       "</style>\n",
       "<table border=\"1\" class=\"dataframe\">\n",
       "  <thead>\n",
       "    <tr style=\"text-align: right;\">\n",
       "      <th></th>\n",
       "      <th>name</th>\n",
       "      <th>age</th>\n",
       "    </tr>\n",
       "  </thead>\n",
       "  <tbody>\n",
       "    <tr>\n",
       "      <th>0</th>\n",
       "      <td>seeta</td>\n",
       "      <td>23</td>\n",
       "    </tr>\n",
       "    <tr>\n",
       "      <th>1</th>\n",
       "      <td>geeta</td>\n",
       "      <td>24</td>\n",
       "    </tr>\n",
       "    <tr>\n",
       "      <th>2</th>\n",
       "      <td>neeta</td>\n",
       "      <td>25</td>\n",
       "    </tr>\n",
       "    <tr>\n",
       "      <th>3</th>\n",
       "      <td>sunita</td>\n",
       "      <td>26</td>\n",
       "    </tr>\n",
       "  </tbody>\n",
       "</table>\n",
       "</div>"
      ],
      "text/plain": [
       "     name  age\n",
       "0   seeta   23\n",
       "1   geeta   24\n",
       "2   neeta   25\n",
       "3  sunita   26"
      ]
     },
     "execution_count": 10,
     "metadata": {},
     "output_type": "execute_result"
    }
   ],
   "source": [
    "df"
   ]
  },
  {
   "cell_type": "code",
   "execution_count": 11,
   "id": "2b36be05",
   "metadata": {},
   "outputs": [
    {
     "name": "stdout",
     "output_type": "stream",
     "text": [
      "<class 'pandas.core.frame.DataFrame'>\n"
     ]
    }
   ],
   "source": [
    "print(type(df))"
   ]
  },
  {
   "cell_type": "markdown",
   "id": "dd18d170",
   "metadata": {},
   "source": [
    "# Attributes\n",
    "dtypes\n",
    "values\n",
    "size\n",
    "shape\n",
    "column\n",
    "index"
   ]
  },
  {
   "cell_type": "code",
   "execution_count": 13,
   "id": "37d25e59",
   "metadata": {},
   "outputs": [
    {
     "data": {
      "text/plain": [
       "8"
      ]
     },
     "execution_count": 13,
     "metadata": {},
     "output_type": "execute_result"
    }
   ],
   "source": [
    "df.size\n"
   ]
  },
  {
   "cell_type": "code",
   "execution_count": 14,
   "id": "4e360fa4",
   "metadata": {},
   "outputs": [
    {
     "data": {
      "text/plain": [
       "(4, 2)"
      ]
     },
     "execution_count": 14,
     "metadata": {},
     "output_type": "execute_result"
    }
   ],
   "source": [
    "df.shape"
   ]
  },
  {
   "cell_type": "code",
   "execution_count": 15,
   "id": "d7a8f312",
   "metadata": {},
   "outputs": [
    {
     "data": {
      "text/plain": [
       "RangeIndex(start=0, stop=4, step=1)"
      ]
     },
     "execution_count": 15,
     "metadata": {},
     "output_type": "execute_result"
    }
   ],
   "source": [
    "df.index"
   ]
  },
  {
   "cell_type": "code",
   "execution_count": 16,
   "id": "68617b59",
   "metadata": {},
   "outputs": [
    {
     "data": {
      "text/plain": [
       "Index(['name', 'age'], dtype='object')"
      ]
     },
     "execution_count": 16,
     "metadata": {},
     "output_type": "execute_result"
    }
   ],
   "source": [
    "df.columns"
   ]
  },
  {
   "cell_type": "code",
   "execution_count": 17,
   "id": "2da75879",
   "metadata": {},
   "outputs": [
    {
     "data": {
      "text/plain": [
       "name    object\n",
       "age      int64\n",
       "dtype: object"
      ]
     },
     "execution_count": 17,
     "metadata": {},
     "output_type": "execute_result"
    }
   ],
   "source": [
    "df.dtypes"
   ]
  },
  {
   "cell_type": "code",
   "execution_count": 18,
   "id": "d52e9bc7",
   "metadata": {},
   "outputs": [
    {
     "data": {
      "text/plain": [
       "array([['seeta', 23],\n",
       "       ['geeta', 24],\n",
       "       ['neeta', 25],\n",
       "       ['sunita', 26]], dtype=object)"
      ]
     },
     "execution_count": 18,
     "metadata": {},
     "output_type": "execute_result"
    }
   ],
   "source": [
    "df.values"
   ]
  },
  {
   "cell_type": "code",
   "execution_count": null,
   "id": "1147dee0",
   "metadata": {},
   "outputs": [],
   "source": [
    "#Function\n",
    "isnull()\n",
    "sum()\n",
    "info()"
   ]
  },
  {
   "cell_type": "code",
   "execution_count": 19,
   "id": "a5d82f85",
   "metadata": {},
   "outputs": [
    {
     "data": {
      "text/plain": [
       "name    0\n",
       "age     0\n",
       "dtype: int64"
      ]
     },
     "execution_count": 19,
     "metadata": {},
     "output_type": "execute_result"
    }
   ],
   "source": [
    "df.isnull().sum()"
   ]
  },
  {
   "cell_type": "code",
   "execution_count": 20,
   "id": "e92a5183",
   "metadata": {},
   "outputs": [
    {
     "name": "stdout",
     "output_type": "stream",
     "text": [
      "<class 'pandas.core.frame.DataFrame'>\n",
      "RangeIndex: 4 entries, 0 to 3\n",
      "Data columns (total 2 columns):\n",
      " #   Column  Non-Null Count  Dtype \n",
      "---  ------  --------------  ----- \n",
      " 0   name    4 non-null      object\n",
      " 1   age     4 non-null      int64 \n",
      "dtypes: int64(1), object(1)\n",
      "memory usage: 196.0+ bytes\n"
     ]
    }
   ],
   "source": [
    "df.info()"
   ]
  },
  {
   "cell_type": "code",
   "execution_count": null,
   "id": "fabb23ba",
   "metadata": {},
   "outputs": [],
   "source": [
    "# Create Class\n"
   ]
  },
  {
   "cell_type": "code",
   "execution_count": 21,
   "id": "297f880a",
   "metadata": {},
   "outputs": [],
   "source": [
    "class person:\n",
    "\n",
    "    #instance method\n",
    "    def __init__(self, name, age, gender, occupation):\n",
    "        self.name = name\n",
    "        self.age = age\n",
    "        self.gender = gender\n",
    "        self.occupation = occupation"
   ]
  },
  {
   "cell_type": "code",
   "execution_count": 23,
   "id": "845e051c",
   "metadata": {},
   "outputs": [],
   "source": [
    "o1 = person('Prajakta', 28, 'female', 'data analyst')"
   ]
  },
  {
   "cell_type": "code",
   "execution_count": 24,
   "id": "0cc1678f",
   "metadata": {},
   "outputs": [
    {
     "data": {
      "text/plain": [
       "<__main__.person at 0x219ffe4d550>"
      ]
     },
     "execution_count": 24,
     "metadata": {},
     "output_type": "execute_result"
    }
   ],
   "source": [
    "o1"
   ]
  },
  {
   "cell_type": "code",
   "execution_count": 25,
   "id": "23616331",
   "metadata": {},
   "outputs": [
    {
     "data": {
      "text/plain": [
       "'Prajakta'"
      ]
     },
     "execution_count": 25,
     "metadata": {},
     "output_type": "execute_result"
    }
   ],
   "source": [
    "o1.name"
   ]
  },
  {
   "cell_type": "code",
   "execution_count": 26,
   "id": "4f5dee5e",
   "metadata": {},
   "outputs": [
    {
     "data": {
      "text/plain": [
       "28"
      ]
     },
     "execution_count": 26,
     "metadata": {},
     "output_type": "execute_result"
    }
   ],
   "source": [
    "o1.age"
   ]
  },
  {
   "cell_type": "code",
   "execution_count": 27,
   "id": "a7124293",
   "metadata": {},
   "outputs": [
    {
     "data": {
      "text/plain": [
       "'female'"
      ]
     },
     "execution_count": 27,
     "metadata": {},
     "output_type": "execute_result"
    }
   ],
   "source": [
    "o1.gender"
   ]
  },
  {
   "cell_type": "code",
   "execution_count": 28,
   "id": "13ea567d",
   "metadata": {},
   "outputs": [
    {
     "data": {
      "text/plain": [
       "'data analyst'"
      ]
     },
     "execution_count": 28,
     "metadata": {},
     "output_type": "execute_result"
    }
   ],
   "source": [
    "o1.occupation"
   ]
  },
  {
   "cell_type": "code",
   "execution_count": 29,
   "id": "1f1b6b35",
   "metadata": {},
   "outputs": [],
   "source": [
    "o2 = person(name ='Prajakta', gender = 'female', occupation = 'data analyst', age = 25)"
   ]
  },
  {
   "cell_type": "code",
   "execution_count": 30,
   "id": "8e2d3279",
   "metadata": {},
   "outputs": [
    {
     "data": {
      "text/plain": [
       "'Prajakta'"
      ]
     },
     "execution_count": 30,
     "metadata": {},
     "output_type": "execute_result"
    }
   ],
   "source": [
    "o2.name"
   ]
  },
  {
   "cell_type": "code",
   "execution_count": 31,
   "id": "0f35e812",
   "metadata": {},
   "outputs": [
    {
     "data": {
      "text/plain": [
       "25"
      ]
     },
     "execution_count": 31,
     "metadata": {},
     "output_type": "execute_result"
    }
   ],
   "source": [
    "o2.age"
   ]
  },
  {
   "cell_type": "code",
   "execution_count": 32,
   "id": "c9be2bcd",
   "metadata": {},
   "outputs": [],
   "source": [
    "o3 = person(name = 'akanksha', age = 17, gender = 'female', occupation = None,)"
   ]
  },
  {
   "cell_type": "code",
   "execution_count": 33,
   "id": "c1919f80",
   "metadata": {},
   "outputs": [
    {
     "data": {
      "text/plain": [
       "'akanksha'"
      ]
     },
     "execution_count": 33,
     "metadata": {},
     "output_type": "execute_result"
    }
   ],
   "source": [
    "o3.name"
   ]
  },
  {
   "cell_type": "code",
   "execution_count": 34,
   "id": "2bf2e61c",
   "metadata": {},
   "outputs": [],
   "source": [
    "o3.occupation"
   ]
  },
  {
   "cell_type": "code",
   "execution_count": 35,
   "id": "a05525ba",
   "metadata": {},
   "outputs": [
    {
     "ename": "TypeError",
     "evalue": "person.__init__() missing 1 required positional argument: 'occupation'",
     "output_type": "error",
     "traceback": [
      "\u001b[31m---------------------------------------------------------------------------\u001b[39m",
      "\u001b[31mTypeError\u001b[39m                                 Traceback (most recent call last)",
      "\u001b[36mCell\u001b[39m\u001b[36m \u001b[39m\u001b[32mIn[35]\u001b[39m\u001b[32m, line 1\u001b[39m\n\u001b[32m----> \u001b[39m\u001b[32m1\u001b[39m o3 = \u001b[43mperson\u001b[49m\u001b[43m(\u001b[49m\u001b[43mname\u001b[49m\u001b[43m \u001b[49m\u001b[43m=\u001b[49m\u001b[43m \u001b[49m\u001b[33;43m'\u001b[39;49m\u001b[33;43makanksha\u001b[39;49m\u001b[33;43m'\u001b[39;49m\u001b[43m,\u001b[49m\u001b[43m \u001b[49m\u001b[43mage\u001b[49m\u001b[43m \u001b[49m\u001b[43m=\u001b[49m\u001b[43m \u001b[49m\u001b[32;43m17\u001b[39;49m\u001b[43m,\u001b[49m\u001b[43m \u001b[49m\u001b[43mgender\u001b[49m\u001b[43m \u001b[49m\u001b[43m=\u001b[49m\u001b[43m \u001b[49m\u001b[33;43m'\u001b[39;49m\u001b[33;43mfemale\u001b[39;49m\u001b[33;43m'\u001b[39;49m\u001b[43m,\u001b[49m\u001b[43m)\u001b[49m\n",
      "\u001b[31mTypeError\u001b[39m: person.__init__() missing 1 required positional argument: 'occupation'"
     ]
    }
   ],
   "source": [
    "o3 = person(name = 'akanksha', age = 17, gender = 'female',)"
   ]
  },
  {
   "cell_type": "code",
   "execution_count": 3,
   "id": "f968b076",
   "metadata": {},
   "outputs": [],
   "source": [
    "# address\n",
    "o4 = person (name = 'umesh', age = 25, gender = 'male', occupation = 'business')"
   ]
  },
  {
   "cell_type": "code",
   "execution_count": 4,
   "id": "623e04d8",
   "metadata": {},
   "outputs": [
    {
     "data": {
      "text/plain": [
       "'business'"
      ]
     },
     "execution_count": 4,
     "metadata": {},
     "output_type": "execute_result"
    }
   ],
   "source": [
    "\n",
    "o4.occupation"
   ]
  },
  {
   "cell_type": "code",
   "execution_count": 5,
   "id": "72243a24",
   "metadata": {},
   "outputs": [],
   "source": [
    "o4.address = 'Vadgaon'"
   ]
  },
  {
   "cell_type": "code",
   "execution_count": 6,
   "id": "d685d092",
   "metadata": {},
   "outputs": [
    {
     "data": {
      "text/plain": [
       "'Vadgaon'"
      ]
     },
     "execution_count": 6,
     "metadata": {},
     "output_type": "execute_result"
    }
   ],
   "source": [
    "o4.address"
   ]
  },
  {
   "cell_type": "code",
   "execution_count": 7,
   "id": "64897b64",
   "metadata": {},
   "outputs": [],
   "source": [
    "class person:\n",
    "\n",
    "    #instance method\n",
    "    def __init__(self, name, age, gender, occupation):\n",
    "        self.name = name\n",
    "        self.age = age\n",
    "        self.gender = gender\n",
    "        self.occupation = occupation\n",
    "        \n",
    "         #add functionality talk\n",
    "    def talk(self):\n",
    "        print(f'i am {self.name}')\n",
    "        print(f'my age is {self.age}')\n",
    "        print(f'i am{self.gender}')\n",
    "        print(f'i work as {self.occupation}')\n"
   ]
  },
  {
   "cell_type": "code",
   "execution_count": 8,
   "id": "50ea91bb",
   "metadata": {},
   "outputs": [
    {
     "name": "stdout",
     "output_type": "stream",
     "text": [
      "i am umesh\n",
      "my age is 25\n",
      "i ammale\n",
      "i work as business\n"
     ]
    }
   ],
   "source": [
    "o4.talk()"
   ]
  },
  {
   "cell_type": "code",
   "execution_count": 9,
   "id": "e7a76015",
   "metadata": {},
   "outputs": [],
   "source": [
    "# name, age, gender, occupation = instance variables\n",
    "class Employee:\n",
    "    company = 'TCS'\n",
    "    def __init__(self, name, age):\n",
    "        self.name = name\n",
    "        self.age = age"
   ]
  },
  {
   "cell_type": "code",
   "execution_count": 13,
   "id": "32198756",
   "metadata": {},
   "outputs": [
    {
     "data": {
      "text/plain": [
       "<__main__.Employee at 0x2b08ba50910>"
      ]
     },
     "execution_count": 13,
     "metadata": {},
     "output_type": "execute_result"
    }
   ],
   "source": [
    "e1 = Employee(name = 'Rutik', age = 25)\n",
    "e2 = Employee(name = 'Akhil', age = 25)\n",
    "e1\n",
    "e2"
   ]
  },
  {
   "cell_type": "code",
   "execution_count": 11,
   "id": "2e6cd649",
   "metadata": {},
   "outputs": [
    {
     "data": {
      "text/plain": [
       "'TCS'"
      ]
     },
     "execution_count": 11,
     "metadata": {},
     "output_type": "execute_result"
    }
   ],
   "source": [
    "e1.company"
   ]
  },
  {
   "cell_type": "code",
   "execution_count": 14,
   "id": "713c4ba3",
   "metadata": {},
   "outputs": [
    {
     "data": {
      "text/plain": [
       "25"
      ]
     },
     "execution_count": 14,
     "metadata": {},
     "output_type": "execute_result"
    }
   ],
   "source": [
    "e1.age"
   ]
  },
  {
   "cell_type": "code",
   "execution_count": 15,
   "id": "7ed11621",
   "metadata": {},
   "outputs": [
    {
     "data": {
      "text/plain": [
       "'TCS'"
      ]
     },
     "execution_count": 15,
     "metadata": {},
     "output_type": "execute_result"
    }
   ],
   "source": [
    "e2.company"
   ]
  },
  {
   "cell_type": "code",
   "execution_count": 17,
   "id": "359a5e50",
   "metadata": {},
   "outputs": [
    {
     "data": {
      "text/plain": [
       "'Akhil'"
      ]
     },
     "execution_count": 17,
     "metadata": {},
     "output_type": "execute_result"
    }
   ],
   "source": [
    "e2.name"
   ]
  },
  {
   "cell_type": "code",
   "execution_count": 18,
   "id": "79529ee1",
   "metadata": {},
   "outputs": [
    {
     "data": {
      "text/plain": [
       "25"
      ]
     },
     "execution_count": 18,
     "metadata": {},
     "output_type": "execute_result"
    }
   ],
   "source": [
    "e2.age"
   ]
  },
  {
   "cell_type": "code",
   "execution_count": 4,
   "id": "fc8e0037",
   "metadata": {},
   "outputs": [],
   "source": [
    "#Data Class\n",
    "from dataclasses import dataclass"
   ]
  },
  {
   "cell_type": "code",
   "execution_count": 5,
   "id": "4c367eea",
   "metadata": {},
   "outputs": [],
   "source": [
    "from typing import Literal, List"
   ]
  },
  {
   "cell_type": "code",
   "execution_count": 6,
   "id": "ad4dba27",
   "metadata": {},
   "outputs": [],
   "source": [
    "#Student = name, gender, marks, hobbies"
   ]
  },
  {
   "cell_type": "code",
   "execution_count": 7,
   "id": "47a2d4c1",
   "metadata": {},
   "outputs": [],
   "source": [
    "@dataclass\n",
    "class Student:\n",
    "    name : str\n",
    "    gender : str\n",
    "    marks : float\n",
    "    hobbies : List[str]\n",
    "\n",
    "    def get_info(self):\n",
    "        print(f'I am {self.name}')\n",
    "        print(f'I am a{self.gender}')\n",
    "        print(f'Marks i got{self.marks}')\n",
    "        print(f'My hobbies are {self.hobbies}')"
   ]
  },
  {
   "cell_type": "code",
   "execution_count": 8,
   "id": "e1def75e",
   "metadata": {},
   "outputs": [],
   "source": [
    "s1 = Student(name = \"Rutik\", gender = 'male', marks = 90.78, hobbies = ['playing', 'reading', 'gaming'])"
   ]
  },
  {
   "cell_type": "code",
   "execution_count": 9,
   "id": "95b95278",
   "metadata": {},
   "outputs": [
    {
     "data": {
      "text/plain": [
       "'Rutik'"
      ]
     },
     "execution_count": 9,
     "metadata": {},
     "output_type": "execute_result"
    }
   ],
   "source": [
    "s1.name"
   ]
  },
  {
   "cell_type": "code",
   "execution_count": 10,
   "id": "0fb555e8",
   "metadata": {},
   "outputs": [
    {
     "data": {
      "text/plain": [
       "['playing', 'reading', 'gaming']"
      ]
     },
     "execution_count": 10,
     "metadata": {},
     "output_type": "execute_result"
    }
   ],
   "source": [
    "s1.hobbies"
   ]
  },
  {
   "cell_type": "code",
   "execution_count": 11,
   "id": "26339597",
   "metadata": {},
   "outputs": [
    {
     "data": {
      "text/plain": [
       "'male'"
      ]
     },
     "execution_count": 11,
     "metadata": {},
     "output_type": "execute_result"
    }
   ],
   "source": [
    "s1.gender"
   ]
  },
  {
   "cell_type": "code",
   "execution_count": 12,
   "id": "10f5cba1",
   "metadata": {},
   "outputs": [
    {
     "data": {
      "text/plain": [
       "90.78"
      ]
     },
     "execution_count": 12,
     "metadata": {},
     "output_type": "execute_result"
    }
   ],
   "source": [
    "s1.marks"
   ]
  },
  {
   "cell_type": "code",
   "execution_count": 13,
   "id": "eaa544de",
   "metadata": {},
   "outputs": [
    {
     "data": {
      "text/plain": [
       "['playing', 'reading', 'gaming']"
      ]
     },
     "execution_count": 13,
     "metadata": {},
     "output_type": "execute_result"
    }
   ],
   "source": [
    "s1.hobbies"
   ]
  },
  {
   "cell_type": "markdown",
   "id": "2c126b7e",
   "metadata": {},
   "source": [
    "# Create Class for bank Transaction\n",
    "- Check Balance\n",
    "- Deposit\n",
    "- Withdraw\n",
    "- transfer"
   ]
  },
  {
   "cell_type": "code",
   "execution_count": 104,
   "id": "5b17b8ed",
   "metadata": {},
   "outputs": [],
   "source": [
    "@dataclass\n",
    "class Account:\n",
    "    acc_name : str\n",
    "    acc_no : int\n",
    "    acc_balance : float\n",
    "\n",
    "    def check_balance(self):\n",
    "        print(f'Current Balance your A/c no {self.acc_no} is {self.acc_balance}')\n",
    "\n",
    "    def deposit(self, amt : int):\n",
    "        self.acc_balance = self.acc_balance + amt\n",
    "        print(f'Amount of {amt} is deposited in {self.acc_no}')\n",
    "        self.check_balance()\n",
    "\n",
    "    def withdraw(self, amt : int|float):\n",
    "        if self.acc_balance < amt:\n",
    "            raise ValueError('insufficient balance')\n",
    "        else:\n",
    "            self.acc_balance = self.acc_balance - amt\n",
    "            print(f'{amt} is deducted from your A/c no {self.acc_no}')\n",
    "            self.check_balance()\n",
    "\n",
    "    def transfer(self, amt :int|float, ac = 'Account'):\n",
    "        self.withdraw(amt)\n",
    "        ac.deposit(amt)"
   ]
  },
  {
   "cell_type": "code",
   "execution_count": 105,
   "id": "e4608b15",
   "metadata": {},
   "outputs": [],
   "source": [
    "ac1 =Account ('Rutik', 12345, 2000.58)"
   ]
  },
  {
   "cell_type": "code",
   "execution_count": 106,
   "id": "4c970bdc",
   "metadata": {},
   "outputs": [
    {
     "data": {
      "text/plain": [
       "'Rutik'"
      ]
     },
     "execution_count": 106,
     "metadata": {},
     "output_type": "execute_result"
    }
   ],
   "source": [
    "ac1.acc_name"
   ]
  },
  {
   "cell_type": "code",
   "execution_count": 107,
   "id": "f3e02458",
   "metadata": {},
   "outputs": [
    {
     "data": {
      "text/plain": [
       "12345"
      ]
     },
     "execution_count": 107,
     "metadata": {},
     "output_type": "execute_result"
    }
   ],
   "source": [
    "ac1.acc_no"
   ]
  },
  {
   "cell_type": "code",
   "execution_count": 108,
   "id": "4d9b30b2",
   "metadata": {},
   "outputs": [
    {
     "data": {
      "text/plain": [
       "2000.58"
      ]
     },
     "execution_count": 108,
     "metadata": {},
     "output_type": "execute_result"
    }
   ],
   "source": [
    "ac1.acc_balance"
   ]
  },
  {
   "cell_type": "code",
   "execution_count": 109,
   "id": "cb67ebab",
   "metadata": {},
   "outputs": [
    {
     "name": "stdout",
     "output_type": "stream",
     "text": [
      "Current Balance your A/c no 12345 is 2000.58\n"
     ]
    }
   ],
   "source": [
    "ac1.check_balance()"
   ]
  },
  {
   "cell_type": "code",
   "execution_count": 110,
   "id": "9c3df08b",
   "metadata": {},
   "outputs": [
    {
     "name": "stdout",
     "output_type": "stream",
     "text": [
      "Amount of 25000 is deposited in 12345\n",
      "Current Balance your A/c no 12345 is 27000.58\n"
     ]
    }
   ],
   "source": [
    "ac1.deposit(25000)"
   ]
  },
  {
   "cell_type": "code",
   "execution_count": 111,
   "id": "213583bc",
   "metadata": {},
   "outputs": [
    {
     "name": "stdout",
     "output_type": "stream",
     "text": [
      "500 is deducted from your A/c no 12345\n",
      "Current Balance your A/c no 12345 is 26500.58\n"
     ]
    }
   ],
   "source": [
    "ac1.withdraw(500)"
   ]
  },
  {
   "cell_type": "code",
   "execution_count": 112,
   "id": "1f079b2e",
   "metadata": {},
   "outputs": [
    {
     "name": "stdout",
     "output_type": "stream",
     "text": [
      "4000 is deducted from your A/c no 12345\n",
      "Current Balance your A/c no 12345 is 22500.58\n"
     ]
    }
   ],
   "source": [
    "ac1.withdraw(4000)"
   ]
  },
  {
   "cell_type": "code",
   "execution_count": 113,
   "id": "624f6b0b",
   "metadata": {},
   "outputs": [],
   "source": [
    "ac2 = Account(acc_name = 'Akhil', acc_no = 45678, acc_balance = 0)"
   ]
  },
  {
   "cell_type": "code",
   "execution_count": 114,
   "id": "1362b316",
   "metadata": {},
   "outputs": [
    {
     "name": "stdout",
     "output_type": "stream",
     "text": [
      "Current Balance your A/c no 45678 is 0\n"
     ]
    }
   ],
   "source": [
    "ac2\n",
    "ac2.check_balance()"
   ]
  },
  {
   "cell_type": "code",
   "execution_count": 115,
   "id": "9f7d9742",
   "metadata": {},
   "outputs": [
    {
     "name": "stdout",
     "output_type": "stream",
     "text": [
      "Amount of 2000 is deposited in 45678\n",
      "Current Balance your A/c no 45678 is 2000\n"
     ]
    }
   ],
   "source": [
    "ac2.deposit(2000)"
   ]
  },
  {
   "cell_type": "code",
   "execution_count": 116,
   "id": "cfe2c327",
   "metadata": {},
   "outputs": [
    {
     "name": "stdout",
     "output_type": "stream",
     "text": [
      "Current Balance your A/c no 45678 is 2000\n"
     ]
    }
   ],
   "source": [
    "ac2.check_balance()"
   ]
  },
  {
   "cell_type": "code",
   "execution_count": 117,
   "id": "4d8a5312",
   "metadata": {},
   "outputs": [
    {
     "name": "stdout",
     "output_type": "stream",
     "text": [
      "1000 is deducted from your A/c no 45678\n",
      "Current Balance your A/c no 45678 is 1000\n"
     ]
    }
   ],
   "source": [
    "ac2.withdraw(1000)"
   ]
  },
  {
   "cell_type": "code",
   "execution_count": 118,
   "id": "59734ad6",
   "metadata": {},
   "outputs": [
    {
     "name": "stdout",
     "output_type": "stream",
     "text": [
      "300 is deducted from your A/c no 45678\n",
      "Current Balance your A/c no 45678 is 700\n",
      "Amount of 300 is deposited in 12345\n",
      "Current Balance your A/c no 12345 is 22800.58\n"
     ]
    }
   ],
   "source": [
    "ac2.transfer(300 ,ac = ac1 )"
   ]
  },
  {
   "cell_type": "code",
   "execution_count": null,
   "id": "29861abb",
   "metadata": {},
   "outputs": [],
   "source": []
  },
  {
   "cell_type": "code",
   "execution_count": null,
   "id": "b29e884f",
   "metadata": {},
   "outputs": [],
   "source": []
  }
 ],
 "metadata": {
  "kernelspec": {
   "display_name": "venv",
   "language": "python",
   "name": "python3"
  },
  "language_info": {
   "codemirror_mode": {
    "name": "ipython",
    "version": 3
   },
   "file_extension": ".py",
   "mimetype": "text/x-python",
   "name": "python",
   "nbconvert_exporter": "python",
   "pygments_lexer": "ipython3",
   "version": "3.13.5"
  }
 },
 "nbformat": 4,
 "nbformat_minor": 5
}
