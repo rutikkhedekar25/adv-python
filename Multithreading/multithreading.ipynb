{
 "cells": [
  {
   "cell_type": "code",
   "execution_count": 1,
   "id": "b7040945",
   "metadata": {},
   "outputs": [],
   "source": [
    "import time"
   ]
  },
  {
   "cell_type": "code",
   "execution_count": 2,
   "id": "8d034146",
   "metadata": {},
   "outputs": [
    {
     "name": "stdout",
     "output_type": "stream",
     "text": [
      "Hello\n"
     ]
    }
   ],
   "source": [
    "time.sleep(2)\n",
    "print('Hello')"
   ]
  },
  {
   "cell_type": "code",
   "execution_count": 3,
   "id": "c83a28e4",
   "metadata": {},
   "outputs": [
    {
     "name": "stdout",
     "output_type": "stream",
     "text": [
      "hello\n",
      "CPU times: total: 15.6 ms\n",
      "Wall time: 2 s\n"
     ]
    }
   ],
   "source": [
    "%%time\n",
    "time.sleep(2)\n",
    "print('hello')"
   ]
  },
  {
   "cell_type": "code",
   "execution_count": 4,
   "id": "b779609b",
   "metadata": {},
   "outputs": [
    {
     "name": "stdout",
     "output_type": "stream",
     "text": [
      "*\n",
      "**\n",
      "***\n",
      "****\n",
      "*****\n",
      "******\n",
      "*******\n",
      "********\n",
      "*********\n",
      "**********\n"
     ]
    }
   ],
   "source": [
    "n = 10\n",
    "for i in range(1,n+1):\n",
    "    print('*'*i)"
   ]
  },
  {
   "cell_type": "code",
   "execution_count": 5,
   "id": "53475b64",
   "metadata": {},
   "outputs": [
    {
     "name": "stdout",
     "output_type": "stream",
     "text": [
      "hello\n",
      "swara\n",
      "CPU times: total: 0 ns\n",
      "Wall time: 5 s\n"
     ]
    }
   ],
   "source": [
    "%%time\n",
    "time.sleep(2)\n",
    "print('hello')\n",
    "time.sleep(3)\n",
    "print('swara')"
   ]
  },
  {
   "cell_type": "markdown",
   "id": "864f662e",
   "metadata": {},
   "source": [
    "# Create function for hypotenus"
   ]
  },
  {
   "cell_type": "code",
   "execution_count": 7,
   "id": "9228241f",
   "metadata": {},
   "outputs": [],
   "source": [
    "import numpy as np"
   ]
  },
  {
   "cell_type": "code",
   "execution_count": 16,
   "id": "b69ac008",
   "metadata": {},
   "outputs": [],
   "source": [
    "def hypotenus(a: int|float, b: int|float):\n",
    "    print('hypotenus function is started')\n",
    "    time.sleep(2)\n",
    "    h = np.sqrt(a**2+b**2)\n",
    "    print(f'Hypotenus of triangle{h}')\n",
    "    print('hypotenus function executed')"
   ]
  },
  {
   "cell_type": "code",
   "execution_count": 17,
   "id": "73dd0406",
   "metadata": {},
   "outputs": [
    {
     "name": "stdout",
     "output_type": "stream",
     "text": [
      "hypotenus function is started\n",
      "Hypotenus of triangle3.605551275463989\n",
      "hypotenus function executed\n"
     ]
    }
   ],
   "source": [
    "hypotenus(a = 3, b = 2)"
   ]
  },
  {
   "cell_type": "code",
   "execution_count": 18,
   "id": "647a765d",
   "metadata": {},
   "outputs": [
    {
     "name": "stdout",
     "output_type": "stream",
     "text": [
      "hypotenus function is started\n",
      "Hypotenus of triangle5.830951894845301\n",
      "hypotenus function executed\n",
      "CPU times: total: 15.6 ms\n",
      "Wall time: 2 s\n"
     ]
    }
   ],
   "source": [
    "%%time\n",
    "hypotenus(a = 5, b = 3)"
   ]
  },
  {
   "cell_type": "code",
   "execution_count": 19,
   "id": "3be6c52a",
   "metadata": {},
   "outputs": [
    {
     "name": "stdout",
     "output_type": "stream",
     "text": [
      "hypotenus function is started\n",
      "Hypotenus of triangle18.439088914585774\n",
      "hypotenus function executed\n",
      "hypotenus function is started\n",
      "Hypotenus of triangle7.211102550927978\n",
      "hypotenus function executed\n",
      "CPU times: total: 15.6 ms\n",
      "Wall time: 4 s\n"
     ]
    }
   ],
   "source": [
    "%%time\n",
    "hypotenus(a = 12, b = 14)\n",
    "hypotenus(a = 4, b = 6)"
   ]
  },
  {
   "cell_type": "markdown",
   "id": "21ceca0f",
   "metadata": {},
   "source": [
    "# Create function for simple interest"
   ]
  },
  {
   "cell_type": "code",
   "execution_count": 20,
   "id": "35959479",
   "metadata": {},
   "outputs": [],
   "source": [
    "def simple_interest(p = int|float, n = int|float, r = int|float):\n",
    "    \"\"\"\n",
    "    p : principal amount\n",
    "    n : no of years\n",
    "    r : rate of interest\n",
    "\n",
    "    \"\"\"\n",
    "    print('simple interest function is started')\n",
    "    time.sleep(3)\n",
    "    i = p*n*r/100\n",
    "    a = p + i\n",
    "    print(f'simple interest {i} amount to be return{a}')\n",
    "    print('simple interest is completed')"
   ]
  },
  {
   "cell_type": "code",
   "execution_count": 21,
   "id": "a79e14ea",
   "metadata": {},
   "outputs": [
    {
     "name": "stdout",
     "output_type": "stream",
     "text": [
      "simple interest function is started\n",
      "simple interest 22000.0 amount to be return222000.0\n",
      "simple interest is completed\n",
      "CPU times: total: 0 ns\n",
      "Wall time: 3 s\n"
     ]
    }
   ],
   "source": [
    "%%time\n",
    "simple_interest(p = 200000, n = 2, r = 5.5)"
   ]
  },
  {
   "cell_type": "code",
   "execution_count": 23,
   "id": "2dedf979",
   "metadata": {},
   "outputs": [
    {
     "name": "stdout",
     "output_type": "stream",
     "text": [
      "hypotenus function is started\n",
      "Hypotenus of triangle56.4003546088143\n",
      "hypotenus function executed\n",
      "simple interest function is started\n",
      "simple interest 27000.0 amount to be return327000.0\n",
      "simple interest is completed\n",
      "CPU times: total: 15.6 ms\n",
      "Wall time: 5 s\n"
     ]
    }
   ],
   "source": [
    "%%time\n",
    "hypotenus(a = 34, b = 45)\n",
    "simple_interest(p = 300000, n = 2, r = 4.5)"
   ]
  },
  {
   "cell_type": "code",
   "execution_count": 25,
   "id": "3322f84c",
   "metadata": {},
   "outputs": [],
   "source": [
    "from threading import Thread\n"
   ]
  },
  {
   "cell_type": "code",
   "execution_count": 28,
   "id": "c53873dc",
   "metadata": {},
   "outputs": [
    {
     "name": "stdout",
     "output_type": "stream",
     "text": [
      "hypotenus function is started\n",
      "simple interest function is started\n",
      "Hypotenus of triangle41.048751503547585\n",
      "hypotenus function executed\n",
      "simple interest 14000.0 amount to be return214000.0\n",
      "simple interest is completed\n",
      "CPU times: total: 46.9 ms\n",
      "Wall time: 3.03 s\n"
     ]
    }
   ],
   "source": [
    "%%time\n",
    "th1 = Thread(target = hypotenus, args = (23, 34))\n",
    "th2 = Thread(target = simple_interest,args = (200000, 2, 3.5))\n",
    "#start the treades\n",
    "th1.start()\n",
    "th2.start()\n",
    "\n",
    "#join the thrades\n",
    "th1.join()\n",
    "th2.join()"
   ]
  },
  {
   "cell_type": "code",
   "execution_count": null,
   "id": "8f5a9774",
   "metadata": {},
   "outputs": [],
   "source": []
  },
  {
   "cell_type": "code",
   "execution_count": null,
   "id": "26dfcb27",
   "metadata": {},
   "outputs": [],
   "source": []
  },
  {
   "cell_type": "code",
   "execution_count": null,
   "id": "8400ecbc",
   "metadata": {},
   "outputs": [],
   "source": []
  }
 ],
 "metadata": {
  "kernelspec": {
   "display_name": "venv",
   "language": "python",
   "name": "python3"
  },
  "language_info": {
   "codemirror_mode": {
    "name": "ipython",
    "version": 3
   },
   "file_extension": ".py",
   "mimetype": "text/x-python",
   "name": "python",
   "nbconvert_exporter": "python",
   "pygments_lexer": "ipython3",
   "version": "3.13.7"
  }
 },
 "nbformat": 4,
 "nbformat_minor": 5
}
