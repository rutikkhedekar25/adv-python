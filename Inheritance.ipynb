{
 "cells": [
  {
   "cell_type": "code",
   "execution_count": 1,
   "id": "bda9b14d",
   "metadata": {},
   "outputs": [],
   "source": [
    "from dataclasses import dataclass"
   ]
  },
  {
   "cell_type": "code",
   "execution_count": 44,
   "id": "52f00e98",
   "metadata": {},
   "outputs": [],
   "source": [
    "@dataclass\n",
    "class Triangle :\n",
    "    s1 : int|float\n",
    "    s2 : int|float\n",
    "    s3 : int|float\n",
    "\n",
    "    def is_triangle(self):\n",
    "        if (self.s1 + self.s2 > self.s3) and (self.s2 + self.s3 > self.s1) and (self.s1 + self.s3 > self.s2):\n",
    "            return True\n",
    "        \n",
    "        else:\n",
    "            return(f\"Triangle is not formed\")\n",
    "        \n",
    "    def perimeter(self):\n",
    "        if self.is_triangle == True:\n",
    "            p = self.s1 + self.s2 + self.s3\n",
    "            return p\n",
    "\n",
    "\n",
    "    def Area(self):\n",
    "        if self.perimeter() is not None:\n",
    "            s = self.perimete()/2\n",
    "            area = (s*(s-self.s1)*(s-self.s2)*(s-self.s3))**1/2\n",
    "            return area\n",
    "          \n",
    "        \n",
    "      \n",
    "    "
   ]
  },
  {
   "cell_type": "code",
   "execution_count": 45,
   "id": "2b9d44c2",
   "metadata": {},
   "outputs": [],
   "source": [
    "T1 = Triangle(23,45,56)"
   ]
  },
  {
   "cell_type": "code",
   "execution_count": 46,
   "id": "c3e920db",
   "metadata": {},
   "outputs": [
    {
     "data": {
      "text/plain": [
       "True"
      ]
     },
     "execution_count": 46,
     "metadata": {},
     "output_type": "execute_result"
    }
   ],
   "source": [
    "T1.is_triangle()"
   ]
  },
  {
   "cell_type": "code",
   "execution_count": 47,
   "id": "60e8132c",
   "metadata": {},
   "outputs": [],
   "source": [
    "T1.perimeter()"
   ]
  },
  {
   "cell_type": "code",
   "execution_count": 48,
   "id": "e4632b3e",
   "metadata": {},
   "outputs": [],
   "source": [
    "T1.Area()"
   ]
  },
  {
   "cell_type": "code",
   "execution_count": 50,
   "id": "16feaec2",
   "metadata": {},
   "outputs": [],
   "source": [
    "T2 = Triangle(13,16,2)"
   ]
  },
  {
   "cell_type": "code",
   "execution_count": 51,
   "id": "76b48316",
   "metadata": {},
   "outputs": [
    {
     "data": {
      "text/plain": [
       "'Triangle is not formed'"
      ]
     },
     "execution_count": 51,
     "metadata": {},
     "output_type": "execute_result"
    }
   ],
   "source": [
    "T2.is_triangle()"
   ]
  },
  {
   "cell_type": "code",
   "execution_count": 52,
   "id": "ac69ab49",
   "metadata": {},
   "outputs": [
    {
     "name": "stdout",
     "output_type": "stream",
     "text": [
      "None\n"
     ]
    }
   ],
   "source": [
    "print(T2.perimeter())"
   ]
  },
  {
   "cell_type": "code",
   "execution_count": 53,
   "id": "25be9126",
   "metadata": {},
   "outputs": [],
   "source": [
    "T2.Area()"
   ]
  },
  {
   "cell_type": "code",
   "execution_count": null,
   "id": "d13ba3ab",
   "metadata": {},
   "outputs": [],
   "source": []
  },
  {
   "cell_type": "code",
   "execution_count": null,
   "id": "30712bc6",
   "metadata": {},
   "outputs": [],
   "source": []
  },
  {
   "cell_type": "code",
   "execution_count": null,
   "id": "390eda10",
   "metadata": {},
   "outputs": [],
   "source": []
  },
  {
   "cell_type": "code",
   "execution_count": null,
   "id": "99eceab3",
   "metadata": {},
   "outputs": [],
   "source": []
  },
  {
   "cell_type": "code",
   "execution_count": null,
   "id": "15d67111",
   "metadata": {},
   "outputs": [],
   "source": []
  },
  {
   "cell_type": "code",
   "execution_count": null,
   "id": "8082212b",
   "metadata": {},
   "outputs": [],
   "source": []
  }
 ],
 "metadata": {
  "kernelspec": {
   "display_name": "venv",
   "language": "python",
   "name": "python3"
  },
  "language_info": {
   "codemirror_mode": {
    "name": "ipython",
    "version": 3
   },
   "file_extension": ".py",
   "mimetype": "text/x-python",
   "name": "python",
   "nbconvert_exporter": "python",
   "pygments_lexer": "ipython3",
   "version": "3.13.5"
  }
 },
 "nbformat": 4,
 "nbformat_minor": 5
}
