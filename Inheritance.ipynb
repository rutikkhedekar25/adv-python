{
 "cells": [
  {
   "cell_type": "code",
   "execution_count": 3,
   "id": "bda9b14d",
   "metadata": {},
   "outputs": [],
   "source": [
    "from dataclasses import dataclass"
   ]
  },
  {
   "cell_type": "code",
   "execution_count": 4,
   "id": "52f00e98",
   "metadata": {},
   "outputs": [],
   "source": [
    "@dataclass\n",
    "class Triangle :\n",
    "    s1 : int|float\n",
    "    s2 : int|float\n",
    "    s3 : int|float\n",
    "\n",
    "    def is_triangle(self):\n",
    "        if (self.s1 + self.s2 > self.s3) and (self.s2 + self.s3 > self.s1) and (self.s1 + self.s3 > self.s2):\n",
    "            return True\n",
    "        \n",
    "        else:\n",
    "            return(f\"Triangle is not formed\")\n",
    "        \n",
    "    def perimeter(self):\n",
    "        if self.is_triangle == True:\n",
    "            p = self.s1 + self.s2 + self.s3\n",
    "            return p\n",
    "\n",
    "\n",
    "    def Area(self):\n",
    "        if self.perimeter() is not None:\n",
    "            s = self.perimete()/2\n",
    "            area = (s*(s-self.s1)*(s-self.s2)*(s-self.s3))**1/2\n",
    "            return area\n",
    "          \n",
    "        \n",
    "      \n",
    "    "
   ]
  },
  {
   "cell_type": "code",
   "execution_count": 5,
   "id": "2b9d44c2",
   "metadata": {},
   "outputs": [],
   "source": [
    "T1 = Triangle(23,45,56)"
   ]
  },
  {
   "cell_type": "code",
   "execution_count": 6,
   "id": "c3e920db",
   "metadata": {},
   "outputs": [
    {
     "data": {
      "text/plain": [
       "True"
      ]
     },
     "execution_count": 6,
     "metadata": {},
     "output_type": "execute_result"
    }
   ],
   "source": [
    "T1.is_triangle()"
   ]
  },
  {
   "cell_type": "code",
   "execution_count": 7,
   "id": "60e8132c",
   "metadata": {},
   "outputs": [],
   "source": [
    "T1.perimeter()"
   ]
  },
  {
   "cell_type": "code",
   "execution_count": 8,
   "id": "e4632b3e",
   "metadata": {},
   "outputs": [],
   "source": [
    "T1.Area()"
   ]
  },
  {
   "cell_type": "code",
   "execution_count": 9,
   "id": "16feaec2",
   "metadata": {},
   "outputs": [],
   "source": [
    "T2 = Triangle(13,16,2)"
   ]
  },
  {
   "cell_type": "code",
   "execution_count": 10,
   "id": "76b48316",
   "metadata": {},
   "outputs": [
    {
     "data": {
      "text/plain": [
       "'Triangle is not formed'"
      ]
     },
     "execution_count": 10,
     "metadata": {},
     "output_type": "execute_result"
    }
   ],
   "source": [
    "T2.is_triangle()"
   ]
  },
  {
   "cell_type": "code",
   "execution_count": 11,
   "id": "ac69ab49",
   "metadata": {},
   "outputs": [
    {
     "name": "stdout",
     "output_type": "stream",
     "text": [
      "None\n"
     ]
    }
   ],
   "source": [
    "print(T2.perimeter())"
   ]
  },
  {
   "cell_type": "code",
   "execution_count": 12,
   "id": "25be9126",
   "metadata": {},
   "outputs": [],
   "source": [
    "T2.Area()"
   ]
  },
  {
   "cell_type": "code",
   "execution_count": 13,
   "id": "d13ba3ab",
   "metadata": {},
   "outputs": [],
   "source": [
    "T1 = Triangle(23,45,56)\n",
    "T2 = Triangle(2,3,4)\n",
    "T3 = Triangle(13,16,2)"
   ]
  },
  {
   "cell_type": "code",
   "execution_count": 19,
   "id": "30712bc6",
   "metadata": {},
   "outputs": [
    {
     "name": "stdout",
     "output_type": "stream",
     "text": [
      "Triangle(s1=23, s2=45, s3=56) True\n",
      "perimeter None\n",
      "Area None\n",
      "-------------------------\n",
      "Triangle(s1=2, s2=3, s3=4) True\n",
      "perimeter None\n",
      "Area None\n",
      "-------------------------\n",
      "Triangle(s1=13, s2=16, s3=2) Triangle is not formed\n",
      "perimeter None\n",
      "Area None\n",
      "-------------------------\n"
     ]
    }
   ],
   "source": [
    "for i in[T1,T2,T3]:\n",
    "    print(i,i.is_triangle())\n",
    "    print('perimeter',i.perimeter())\n",
    "    print('Area',i.Area())\n",
    "    print('-------------------------')"
   ]
  },
  {
   "cell_type": "code",
   "execution_count": 35,
   "id": "390eda10",
   "metadata": {},
   "outputs": [],
   "source": [
    "# Create class for creating simple calculator , add, substraction, multiplication, division\n",
    "\n",
    "\n",
    "@dataclass\n",
    "class Calculator:\n",
    "    x : int|float\n",
    "    y : int|float\n",
    "\n",
    "    def addition(self):\n",
    "        if isinstance(self.x, (int , float)) and isinstance(self.y,(int, float)):\n",
    "            return self.x + self.y\n",
    "        \n",
    "    def subtraction(self):\n",
    "        if isinstance(self.x , (int, float)) and isinstance(self.y, (int,float)):\n",
    "            return self.x - self.y\n",
    "        \n",
    "    def product(self):\n",
    "        if self.addition() is not None:\n",
    "            return self.x*self.y\n",
    "        \n",
    "    def division(self):\n",
    "        if self.y != 0:\n",
    "            return self.x/self.y\n",
    "        else:\n",
    "            raise ZeroDivisionError('denominator should not zero')"
   ]
  },
  {
   "cell_type": "code",
   "execution_count": 40,
   "id": "99eceab3",
   "metadata": {},
   "outputs": [],
   "source": [
    "o1 = Calculator(12,0)"
   ]
  },
  {
   "cell_type": "code",
   "execution_count": 41,
   "id": "15d67111",
   "metadata": {},
   "outputs": [
    {
     "ename": "ZeroDivisionError",
     "evalue": "denominator should not zero",
     "output_type": "error",
     "traceback": [
      "\u001b[31m---------------------------------------------------------------------------\u001b[39m",
      "\u001b[31mZeroDivisionError\u001b[39m                         Traceback (most recent call last)",
      "\u001b[36mCell\u001b[39m\u001b[36m \u001b[39m\u001b[32mIn[41]\u001b[39m\u001b[32m, line 4\u001b[39m\n\u001b[32m      2\u001b[39m o1.product()\n\u001b[32m      3\u001b[39m o1.subtraction()\n\u001b[32m----> \u001b[39m\u001b[32m4\u001b[39m \u001b[43mo1\u001b[49m\u001b[43m.\u001b[49m\u001b[43mdivision\u001b[49m\u001b[43m(\u001b[49m\u001b[43m)\u001b[49m\n",
      "\u001b[36mCell\u001b[39m\u001b[36m \u001b[39m\u001b[32mIn[35]\u001b[39m\u001b[32m, line 25\u001b[39m, in \u001b[36mCalculator.division\u001b[39m\u001b[34m(self)\u001b[39m\n\u001b[32m     23\u001b[39m     \u001b[38;5;28;01mreturn\u001b[39;00m \u001b[38;5;28mself\u001b[39m.x/\u001b[38;5;28mself\u001b[39m.y\n\u001b[32m     24\u001b[39m \u001b[38;5;28;01melse\u001b[39;00m:\n\u001b[32m---> \u001b[39m\u001b[32m25\u001b[39m     \u001b[38;5;28;01mraise\u001b[39;00m \u001b[38;5;167;01mZeroDivisionError\u001b[39;00m(\u001b[33m'\u001b[39m\u001b[33mdenominator should not zero\u001b[39m\u001b[33m'\u001b[39m)\n",
      "\u001b[31mZeroDivisionError\u001b[39m: denominator should not zero"
     ]
    }
   ],
   "source": [
    "o1.addition()\n",
    "o1.product()\n",
    "o1.subtraction()\n",
    "o1.division()"
   ]
  },
  {
   "cell_type": "code",
   "execution_count": null,
   "id": "9eeb6f3c",
   "metadata": {},
   "outputs": [],
   "source": [
    "# inheritance"
   ]
  },
  {
   "cell_type": "code",
   "execution_count": 1,
   "id": "c7e54aa3",
   "metadata": {},
   "outputs": [],
   "source": [
    "class Person:\n",
    "    def __init__(self, name, age):\n",
    "        self.name = name\n",
    "        self.age = age\n",
    "    def introduce(self):\n",
    "        return(f'My name is {self.name} And i am {self.age} years old')\n",
    "    \n",
    "class employee(Person):\n",
    "    def __init__(self, name, age, company):\n",
    "        super().__init__(name,age)\n",
    "        self.company = company"
   ]
  },
  {
   "cell_type": "code",
   "execution_count": 2,
   "id": "bbd2556a",
   "metadata": {},
   "outputs": [],
   "source": [
    "p1 = Person(name = 'Rutik', age = 25)"
   ]
  },
  {
   "cell_type": "code",
   "execution_count": 3,
   "id": "6bbf832c",
   "metadata": {},
   "outputs": [
    {
     "data": {
      "text/plain": [
       "'Rutik'"
      ]
     },
     "execution_count": 3,
     "metadata": {},
     "output_type": "execute_result"
    }
   ],
   "source": [
    "p1.name"
   ]
  },
  {
   "cell_type": "code",
   "execution_count": 4,
   "id": "126f1130",
   "metadata": {},
   "outputs": [
    {
     "data": {
      "text/plain": [
       "25"
      ]
     },
     "execution_count": 4,
     "metadata": {},
     "output_type": "execute_result"
    }
   ],
   "source": [
    "p1.age"
   ]
  },
  {
   "cell_type": "code",
   "execution_count": 5,
   "id": "05642ae4",
   "metadata": {},
   "outputs": [
    {
     "data": {
      "text/plain": [
       "'My name is Rutik And i am 25 years old'"
      ]
     },
     "execution_count": 5,
     "metadata": {},
     "output_type": "execute_result"
    }
   ],
   "source": [
    "p1.introduce()"
   ]
  },
  {
   "cell_type": "code",
   "execution_count": 6,
   "id": "14110d6e",
   "metadata": {},
   "outputs": [],
   "source": [
    "p2 = Person(name = 'Akhil', age = 25)"
   ]
  },
  {
   "cell_type": "code",
   "execution_count": 7,
   "id": "a985d88b",
   "metadata": {},
   "outputs": [
    {
     "data": {
      "text/plain": [
       "'My name is Akhil And i am 25 years old'"
      ]
     },
     "execution_count": 7,
     "metadata": {},
     "output_type": "execute_result"
    }
   ],
   "source": [
    "p2.introduce()"
   ]
  },
  {
   "cell_type": "code",
   "execution_count": 8,
   "id": "135d600c",
   "metadata": {},
   "outputs": [],
   "source": [
    "e1 = employee(name = 'Ashish', age = 25, company = 'TCS')"
   ]
  },
  {
   "cell_type": "code",
   "execution_count": 9,
   "id": "d448bd6f",
   "metadata": {},
   "outputs": [
    {
     "name": "stdout",
     "output_type": "stream",
     "text": [
      "Ashish\n",
      "25\n",
      "TCS\n",
      "My name is Ashish And i am 25 years old\n"
     ]
    }
   ],
   "source": [
    "print(e1.name)\n",
    "print(e1.age)\n",
    "print(e1.company)\n",
    "print(e1.introduce())"
   ]
  },
  {
   "cell_type": "code",
   "execution_count": 16,
   "id": "27fec680",
   "metadata": {},
   "outputs": [],
   "source": [
    "class Person:\n",
    "    def __init__(self, name, age):\n",
    "        self.name = name\n",
    "        self.age = age\n",
    "    def introduce(self):\n",
    "        return(f'My name is {self.name} And i am {self.age} years old')\n",
    "    \n",
    "class employee(Person):\n",
    "    def __init__(self, name, age, company):\n",
    "        super().__init__(name,age)\n",
    "        self.company = company\n",
    "    \n",
    "    def work(self):\n",
    "        print(super().introduce())\n",
    "        return f'I work for {self.company}'"
   ]
  },
  {
   "cell_type": "code",
   "execution_count": 17,
   "id": "0998ffe4",
   "metadata": {},
   "outputs": [],
   "source": [
    "e2 = employee(name = 'Ameya', age = 29, company = 'Gallagher')"
   ]
  },
  {
   "cell_type": "code",
   "execution_count": 18,
   "id": "48ff3cce",
   "metadata": {},
   "outputs": [
    {
     "name": "stdout",
     "output_type": "stream",
     "text": [
      "My name is Ameya And i am 29 years old\n"
     ]
    },
    {
     "data": {
      "text/plain": [
       "'I work for Gallagher'"
      ]
     },
     "execution_count": 18,
     "metadata": {},
     "output_type": "execute_result"
    }
   ],
   "source": [
    "e2.work()"
   ]
  },
  {
   "cell_type": "code",
   "execution_count": 21,
   "id": "526e5c17",
   "metadata": {},
   "outputs": [
    {
     "data": {
      "text/plain": [
       "'My name is Ameya And i am 29 years old'"
      ]
     },
     "execution_count": 21,
     "metadata": {},
     "output_type": "execute_result"
    }
   ],
   "source": [
    "e2.introduce()"
   ]
  },
  {
   "cell_type": "code",
   "execution_count": null,
   "id": "2e94123b",
   "metadata": {},
   "outputs": [],
   "source": [
    "#Multilevel inheritance"
   ]
  },
  {
   "cell_type": "code",
   "execution_count": 37,
   "id": "77e64a59",
   "metadata": {},
   "outputs": [],
   "source": [
    "class Employee:\n",
    "    def __init__(self, name, id):\n",
    "        self.name = name\n",
    "        self.id = id\n",
    "\n",
    "    def get_employee_info(self):\n",
    "        print(f'Name:{self.name}, Id :{self.id}')\n",
    "\n",
    "    #child class manager\n",
    "class Manager(Employee):\n",
    "    def __init__(self, name, id, department):\n",
    "        super().__init__(name, id)\n",
    "        self.department = department\n",
    "\n",
    "    def get_manager_info(self):\n",
    "        return(f'{super().get_employee_info()}, department : {self.department}')\n",
    "    \n",
    "    #Grand Child class\n",
    "class Project_Manager(Manager):\n",
    "    def __init__(self, name, id, department, project):\n",
    "        super().__init__(name, id, department)\n",
    "        self.project = project\n",
    "\n",
    "    def get_project_Manager_info(self):\n",
    "        return(f'{super().get_Manager_info()}, project :{self.project}')"
   ]
  },
  {
   "cell_type": "code",
   "execution_count": 38,
   "id": "af566ca6",
   "metadata": {},
   "outputs": [],
   "source": [
    "E1 = Employee(name = 'Mahesh', id = 123)"
   ]
  },
  {
   "cell_type": "code",
   "execution_count": 39,
   "id": "2fa0fa99",
   "metadata": {},
   "outputs": [
    {
     "data": {
      "text/plain": [
       "'Mahesh'"
      ]
     },
     "execution_count": 39,
     "metadata": {},
     "output_type": "execute_result"
    }
   ],
   "source": [
    "E1.name"
   ]
  },
  {
   "cell_type": "code",
   "execution_count": 40,
   "id": "ef3d1955",
   "metadata": {},
   "outputs": [
    {
     "data": {
      "text/plain": [
       "123"
      ]
     },
     "execution_count": 40,
     "metadata": {},
     "output_type": "execute_result"
    }
   ],
   "source": [
    "E1.id"
   ]
  },
  {
   "cell_type": "code",
   "execution_count": 41,
   "id": "c4a3371d",
   "metadata": {},
   "outputs": [],
   "source": [
    "M1 = Manager(name = 'Rk', id = 456, department = 'CEO')"
   ]
  },
  {
   "cell_type": "code",
   "execution_count": 42,
   "id": "9dae6bb0",
   "metadata": {},
   "outputs": [
    {
     "name": "stdout",
     "output_type": "stream",
     "text": [
      "Name:Rk, Id :456\n"
     ]
    }
   ],
   "source": [
    "M1.get_employee_info()"
   ]
  },
  {
   "cell_type": "code",
   "execution_count": 43,
   "id": "e4766ed7",
   "metadata": {},
   "outputs": [
    {
     "name": "stdout",
     "output_type": "stream",
     "text": [
      "Name:Rk, Id :456\n"
     ]
    },
    {
     "data": {
      "text/plain": [
       "'None, department : CEO'"
      ]
     },
     "execution_count": 43,
     "metadata": {},
     "output_type": "execute_result"
    }
   ],
   "source": [
    "M1.get_manager_info()"
   ]
  },
  {
   "cell_type": "code",
   "execution_count": 48,
   "id": "e86b3bdf",
   "metadata": {},
   "outputs": [],
   "source": [
    "PM = Project_Manager(name = 'Chuch', id = 789, department = 'Dd', project = 'interior')"
   ]
  },
  {
   "cell_type": "code",
   "execution_count": 50,
   "id": "2e0abd0f",
   "metadata": {},
   "outputs": [
    {
     "data": {
      "text/plain": [
       "'interior'"
      ]
     },
     "execution_count": 50,
     "metadata": {},
     "output_type": "execute_result"
    }
   ],
   "source": [
    "PM.project"
   ]
  },
  {
   "cell_type": "code",
   "execution_count": 52,
   "id": "815b0165",
   "metadata": {},
   "outputs": [
    {
     "name": "stdout",
     "output_type": "stream",
     "text": [
      "Name:Chuch, Id :789\n"
     ]
    }
   ],
   "source": [
    "PM.get_employee_info()"
   ]
  },
  {
   "cell_type": "code",
   "execution_count": 1,
   "id": "a54adff7",
   "metadata": {},
   "outputs": [],
   "source": [
    "from dataclasses import dataclass"
   ]
  },
  {
   "cell_type": "code",
   "execution_count": 17,
   "id": "024a4450",
   "metadata": {},
   "outputs": [],
   "source": [
    "@dataclass\n",
    "class User:\n",
    "    name : str\n",
    "    email : str\n",
    "\n",
    "    def get_user_info(self):\n",
    "        return f'name :{self.name}, email{self.email}'\n",
    "    \n",
    "# create child class admin\n",
    "class admin(User):\n",
    "    def __init__(self, name, email, Access):\n",
    "        super().__init__(name, email)\n",
    "        self.Access = Access\n",
    "\n",
    "    def get_admin_info(self):\n",
    "        return(f'{super().get_user_info()}, Access --> {self.Access}')\n",
    "\n",
    "class RegularUser(User):\n",
    "    def __init__(self, name, email, Subscription):\n",
    "        super().__init__(name, email)\n",
    "        self.Subscription = Subscription\n",
    "    def get_RegularUser_info(self):\n",
    "        return(f'{super().get_user_info()}, Subsciption --> {self.Subscription}')  \n",
    "    "
   ]
  },
  {
   "cell_type": "code",
   "execution_count": 3,
   "id": "dd550eab",
   "metadata": {},
   "outputs": [],
   "source": [
    "u1 = User(name = 'Akhil', email = 'akhil@example.com')"
   ]
  },
  {
   "cell_type": "code",
   "execution_count": 5,
   "id": "c9aaa75f",
   "metadata": {},
   "outputs": [
    {
     "data": {
      "text/plain": [
       "'Akhil'"
      ]
     },
     "execution_count": 5,
     "metadata": {},
     "output_type": "execute_result"
    }
   ],
   "source": [
    "u1.name"
   ]
  },
  {
   "cell_type": "code",
   "execution_count": 6,
   "id": "bdf6a726",
   "metadata": {},
   "outputs": [
    {
     "data": {
      "text/plain": [
       "'akhil@example.com'"
      ]
     },
     "execution_count": 6,
     "metadata": {},
     "output_type": "execute_result"
    }
   ],
   "source": [
    "u1.email"
   ]
  },
  {
   "cell_type": "code",
   "execution_count": 8,
   "id": "742a95f4",
   "metadata": {},
   "outputs": [],
   "source": [
    "a1 = admin(name = 'Rutik', email = 'rk@example.com', Access = 'partial')"
   ]
  },
  {
   "cell_type": "code",
   "execution_count": 9,
   "id": "10e24a91",
   "metadata": {},
   "outputs": [
    {
     "data": {
      "text/plain": [
       "'Rutik'"
      ]
     },
     "execution_count": 9,
     "metadata": {},
     "output_type": "execute_result"
    }
   ],
   "source": [
    "a1.name"
   ]
  },
  {
   "cell_type": "code",
   "execution_count": 10,
   "id": "22ce601c",
   "metadata": {},
   "outputs": [
    {
     "data": {
      "text/plain": [
       "'rk@example.com'"
      ]
     },
     "execution_count": 10,
     "metadata": {},
     "output_type": "execute_result"
    }
   ],
   "source": [
    "a1.email"
   ]
  },
  {
   "cell_type": "code",
   "execution_count": 11,
   "id": "b9998940",
   "metadata": {},
   "outputs": [
    {
     "data": {
      "text/plain": [
       "'partial'"
      ]
     },
     "execution_count": 11,
     "metadata": {},
     "output_type": "execute_result"
    }
   ],
   "source": [
    "a1.Access"
   ]
  },
  {
   "cell_type": "code",
   "execution_count": 13,
   "id": "323c4529",
   "metadata": {},
   "outputs": [
    {
     "data": {
      "text/plain": [
       "'name :Rutik, emailrk@example.com'"
      ]
     },
     "execution_count": 13,
     "metadata": {},
     "output_type": "execute_result"
    }
   ],
   "source": [
    "a1.get_user_info()"
   ]
  },
  {
   "cell_type": "code",
   "execution_count": 14,
   "id": "580f9602",
   "metadata": {},
   "outputs": [
    {
     "data": {
      "text/plain": [
       "'name :Rutik, emailrk@example.com, Access --> partial'"
      ]
     },
     "execution_count": 14,
     "metadata": {},
     "output_type": "execute_result"
    }
   ],
   "source": [
    "a1.get_admin_info()"
   ]
  },
  {
   "cell_type": "code",
   "execution_count": 18,
   "id": "9ec30cd5",
   "metadata": {},
   "outputs": [],
   "source": [
    "ru1 = RegularUser(name = 'Amey', email = 'amey@example.com', Subscription = True)"
   ]
  },
  {
   "cell_type": "code",
   "execution_count": 19,
   "id": "43d04a36",
   "metadata": {},
   "outputs": [
    {
     "data": {
      "text/plain": [
       "'name :Amey, emailamey@example.com, Subsciption --> True'"
      ]
     },
     "execution_count": 19,
     "metadata": {},
     "output_type": "execute_result"
    }
   ],
   "source": [
    "ru1.get_RegularUser_info()"
   ]
  },
  {
   "cell_type": "code",
   "execution_count": null,
   "id": "c4f5f26a",
   "metadata": {},
   "outputs": [],
   "source": [
    "#Create Student Class\n",
    "- name - str\n",
    "- roll num - int\n",
    "- marks - float\n",
    "- email- emailstr\n",
    "- doj - date \n",
    "- hobbies - str[str]"
   ]
  },
  {
   "cell_type": "code",
   "execution_count": 1,
   "id": "b22fa00a",
   "metadata": {},
   "outputs": [
    {
     "name": "stdout",
     "output_type": "stream",
     "text": [
      "Collecting pydantic\n",
      "  Downloading pydantic-2.11.7-py3-none-any.whl.metadata (67 kB)\n",
      "Collecting annotated-types>=0.6.0 (from pydantic)\n",
      "  Downloading annotated_types-0.7.0-py3-none-any.whl.metadata (15 kB)\n",
      "Collecting pydantic-core==2.33.2 (from pydantic)\n",
      "  Downloading pydantic_core-2.33.2-cp313-cp313-win_amd64.whl.metadata (6.9 kB)\n",
      "Requirement already satisfied: typing-extensions>=4.12.2 in c:\\adv python\\repository\\venv\\lib\\site-packages (from pydantic) (4.14.0)\n",
      "Collecting typing-inspection>=0.4.0 (from pydantic)\n",
      "  Downloading typing_inspection-0.4.1-py3-none-any.whl.metadata (2.6 kB)\n",
      "Downloading pydantic-2.11.7-py3-none-any.whl (444 kB)\n",
      "Downloading pydantic_core-2.33.2-cp313-cp313-win_amd64.whl (2.0 MB)\n",
      "   ---------------------------------------- 0.0/2.0 MB ? eta -:--:--\n",
      "   ---------------------------------------- 0.0/2.0 MB ? eta -:--:--\n",
      "   ---------------------------------------- 0.0/2.0 MB ? eta -:--:--\n",
      "   ---------------------------------------- 0.0/2.0 MB ? eta -:--:--\n",
      "   ---------------------------------------- 0.0/2.0 MB ? eta -:--:--\n",
      "   ---------------------------------------- 0.0/2.0 MB ? eta -:--:--\n",
      "   ---------------------------------------- 0.0/2.0 MB ? eta -:--:--\n",
      "   ---------------------------------------- 0.0/2.0 MB ? eta -:--:--\n",
      "   ---------------------------------------- 0.0/2.0 MB ? eta -:--:--\n",
      "   ---------------------------------------- 0.0/2.0 MB ? eta -:--:--\n",
      "   ---------------------------------------- 0.0/2.0 MB ? eta -:--:--\n",
      "   ---------------------------------------- 0.0/2.0 MB ? eta -:--:--\n",
      "   ---------------------------------------- 0.0/2.0 MB ? eta -:--:--\n",
      "   ---------------------------------------- 0.0/2.0 MB ? eta -:--:--\n",
      "   ---------------------------------------- 0.0/2.0 MB ? eta -:--:--\n",
      "   ---------------------------------------- 0.0/2.0 MB ? eta -:--:--\n",
      "   ---------------------------------------- 0.0/2.0 MB ? eta -:--:--\n",
      "   ---------------------------------------- 0.0/2.0 MB ? eta -:--:--\n",
      "   ---------------------------------------- 0.0/2.0 MB ? eta -:--:--\n",
      "   ---------------------------------------- 0.0/2.0 MB ? eta -:--:--\n",
      "   ---------------------------------------- 0.0/2.0 MB ? eta -:--:--\n",
      "   ---------------------------------------- 0.0/2.0 MB ? eta -:--:--\n",
      "   ---------------------------------------- 0.0/2.0 MB ? eta -:--:--\n",
      "   ---------------------------------------- 0.0/2.0 MB ? eta -:--:--\n",
      "   ---------------------------------------- 0.0/2.0 MB ? eta -:--:--\n",
      "   ---------------------------------------- 0.0/2.0 MB ? eta -:--:--\n",
      "   ---------------------------------------- 0.0/2.0 MB ? eta -:--:--\n",
      "   ---------------------------------------- 0.0/2.0 MB ? eta -:--:--\n",
      "   ---------------------------------------- 0.0/2.0 MB ? eta -:--:--\n",
      "   ---------------------------------------- 0.0/2.0 MB ? eta -:--:--\n",
      "   ---------------------------------------- 0.0/2.0 MB ? eta -:--:--\n",
      "   ---------------------------------------- 0.0/2.0 MB ? eta -:--:--\n",
      "   ---------------------------------------- 0.0/2.0 MB ? eta -:--:--\n",
      "   ----- ---------------------------------- 0.3/2.0 MB ? eta -:--:--\n",
      "   ---------- ----------------------------- 0.5/2.0 MB 1.2 MB/s eta 0:00:02\n",
      "   ---------------- ----------------------- 0.8/2.0 MB 1.2 MB/s eta 0:00:01\n",
      "   --------------------- ------------------ 1.0/2.0 MB 1.3 MB/s eta 0:00:01\n",
      "   -------------------------- ------------- 1.3/2.0 MB 1.3 MB/s eta 0:00:01\n",
      "   -------------------------------- ------- 1.6/2.0 MB 1.3 MB/s eta 0:00:01\n",
      "   ---------------------------------------- 2.0/2.0 MB 1.3 MB/s eta 0:00:00\n",
      "Downloading annotated_types-0.7.0-py3-none-any.whl (13 kB)\n",
      "Downloading typing_inspection-0.4.1-py3-none-any.whl (14 kB)\n",
      "Installing collected packages: typing-inspection, pydantic-core, annotated-types, pydantic\n",
      "\n",
      "   ---------- ----------------------------- 1/4 [pydantic-core]\n",
      "   ---------- ----------------------------- 1/4 [pydantic-core]\n",
      "   ------------------------------ --------- 3/4 [pydantic]\n",
      "   ------------------------------ --------- 3/4 [pydantic]\n",
      "   ------------------------------ --------- 3/4 [pydantic]\n",
      "   ------------------------------ --------- 3/4 [pydantic]\n",
      "   ------------------------------ --------- 3/4 [pydantic]\n",
      "   ------------------------------ --------- 3/4 [pydantic]\n",
      "   ------------------------------ --------- 3/4 [pydantic]\n",
      "   ------------------------------ --------- 3/4 [pydantic]\n",
      "   ------------------------------ --------- 3/4 [pydantic]\n",
      "   ------------------------------ --------- 3/4 [pydantic]\n",
      "   ------------------------------ --------- 3/4 [pydantic]\n",
      "   ------------------------------ --------- 3/4 [pydantic]\n",
      "   ------------------------------ --------- 3/4 [pydantic]\n",
      "   ------------------------------ --------- 3/4 [pydantic]\n",
      "   ------------------------------ --------- 3/4 [pydantic]\n",
      "   ---------------------------------------- 4/4 [pydantic]\n",
      "\n",
      "Successfully installed annotated-types-0.7.0 pydantic-2.11.7 pydantic-core-2.33.2 typing-inspection-0.4.1\n",
      "Note: you may need to restart the kernel to use updated packages.\n"
     ]
    },
    {
     "name": "stderr",
     "output_type": "stream",
     "text": [
      "\n",
      "[notice] A new release of pip is available: 25.1.1 -> 25.2\n",
      "[notice] To update, run: python.exe -m pip install --upgrade pip\n"
     ]
    }
   ],
   "source": [
    "%pip install pydantic"
   ]
  },
  {
   "cell_type": "code",
   "execution_count": 3,
   "id": "9bf35668",
   "metadata": {},
   "outputs": [
    {
     "name": "stdout",
     "output_type": "stream",
     "text": [
      "Requirement already satisfied: pydantic in c:\\adv python\\repository\\venv\\lib\\site-packages (2.11.7)\n",
      "Requirement already satisfied: email-validator in c:\\adv python\\repository\\venv\\lib\\site-packages (2.2.0)\n",
      "Requirement already satisfied: annotated-types>=0.6.0 in c:\\adv python\\repository\\venv\\lib\\site-packages (from pydantic) (0.7.0)\n",
      "Requirement already satisfied: pydantic-core==2.33.2 in c:\\adv python\\repository\\venv\\lib\\site-packages (from pydantic) (2.33.2)\n",
      "Requirement already satisfied: typing-extensions>=4.12.2 in c:\\adv python\\repository\\venv\\lib\\site-packages (from pydantic) (4.14.0)\n",
      "Requirement already satisfied: typing-inspection>=0.4.0 in c:\\adv python\\repository\\venv\\lib\\site-packages (from pydantic) (0.4.1)\n",
      "Requirement already satisfied: dnspython>=2.0.0 in c:\\adv python\\repository\\venv\\lib\\site-packages (from email-validator) (2.7.0)\n",
      "Requirement already satisfied: idna>=2.0.0 in c:\\adv python\\repository\\venv\\lib\\site-packages (from email-validator) (3.10)\n",
      "Note: you may need to restart the kernel to use updated packages.\n"
     ]
    },
    {
     "name": "stderr",
     "output_type": "stream",
     "text": [
      "\n",
      "[notice] A new release of pip is available: 25.1.1 -> 25.2\n",
      "[notice] To update, run: python.exe -m pip install --upgrade pip\n"
     ]
    }
   ],
   "source": [
    "%pip install pydantic email-validator"
   ]
  },
  {
   "cell_type": "code",
   "execution_count": 6,
   "id": "720106af",
   "metadata": {},
   "outputs": [],
   "source": [
    "from pydantic import EmailStr , Field ,BaseModel\n",
    "from typing import List, Literal\n",
    "from datetime import date\n"
   ]
  },
  {
   "cell_type": "code",
   "execution_count": 24,
   "id": "5add0e43",
   "metadata": {},
   "outputs": [],
   "source": [
    "class Student(BaseModel):\n",
    "  name : str =  Field(description= \"This is Student Name\")\n",
    "  roll_no : int =  Field(description= \"Inser roll number in int\" , gt = 0)\n",
    "  marks : float  =  Field(description= \"Please enter valid marks\" ,  gt =  0 ,  lt = 100  )\n",
    "  email : EmailStr = Field(description= \"please enter email here\" )\n",
    "  Gender : Literal['Male' , \"Female\"]\n",
    "  doj  : date =  Field(description = \"This is date at wich student has joined school\" , default= \"20-06-2025\")\n",
    "  Hobbies : List[str] =  Field(description= \"Hobbies\" ,  default_factory=  List)\n",
    "\n",
    "\n",
    "  def get_student_info(self):\n",
    "    print(f\"name --> {self.name}\")\n",
    "    print(f\"roll number --> {self.roll_no}\")\n",
    "    print(f\"marks --> {self.marks}\")\n",
    "    print(f\"email --> {self.email}\")\n",
    "    print(f\"Gender--> {self.Gender}\")\n",
    "    print(f\"date of joining --> {self.doj}\")\n",
    "    print(f\"Hobbies--> {self.Hobbies}\")\n",
    "\n"
   ]
  },
  {
   "cell_type": "code",
   "execution_count": 27,
   "id": "d5c0f483",
   "metadata": {},
   "outputs": [],
   "source": [
    "s1 =  Student(name  = 'sushant' , email = 'sushant@gmail.com' ,  marks = 35 , Hobbies = [ 'swimming'] , roll_no= 1  , Gender = \"Male\")"
   ]
  },
  {
   "cell_type": "code",
   "execution_count": 28,
   "id": "ffaf6466",
   "metadata": {},
   "outputs": [
    {
     "data": {
      "text/plain": [
       "'sushant'"
      ]
     },
     "execution_count": 28,
     "metadata": {},
     "output_type": "execute_result"
    }
   ],
   "source": [
    "s1.name"
   ]
  },
  {
   "cell_type": "code",
   "execution_count": 29,
   "id": "1b1132dd",
   "metadata": {},
   "outputs": [
    {
     "data": {
      "text/plain": [
       "1"
      ]
     },
     "execution_count": 29,
     "metadata": {},
     "output_type": "execute_result"
    }
   ],
   "source": [
    "s1.roll_no"
   ]
  },
  {
   "cell_type": "code",
   "execution_count": 30,
   "id": "f9495084",
   "metadata": {},
   "outputs": [
    {
     "data": {
      "text/plain": [
       "35.0"
      ]
     },
     "execution_count": 30,
     "metadata": {},
     "output_type": "execute_result"
    }
   ],
   "source": [
    "s1.marks"
   ]
  },
  {
   "cell_type": "code",
   "execution_count": 31,
   "id": "8dbea7d9",
   "metadata": {},
   "outputs": [
    {
     "data": {
      "text/plain": [
       "'sushant@gmail.com'"
      ]
     },
     "execution_count": 31,
     "metadata": {},
     "output_type": "execute_result"
    }
   ],
   "source": [
    "s1.email"
   ]
  },
  {
   "cell_type": "code",
   "execution_count": 32,
   "id": "7c319a6b",
   "metadata": {},
   "outputs": [
    {
     "data": {
      "text/plain": [
       "'20-06-2025'"
      ]
     },
     "execution_count": 32,
     "metadata": {},
     "output_type": "execute_result"
    }
   ],
   "source": [
    "s1.doj"
   ]
  },
  {
   "cell_type": "code",
   "execution_count": 34,
   "id": "8dba193b",
   "metadata": {},
   "outputs": [
    {
     "name": "stdout",
     "output_type": "stream",
     "text": [
      "sushant\n",
      "20-06-2025\n",
      "sushant@gmail.com\n",
      "35.0\n",
      "name --> sushant\n",
      "roll number --> 1\n",
      "marks --> 35.0\n",
      "email --> sushant@gmail.com\n",
      "Gender--> Male\n",
      "date of joining --> 20-06-2025\n",
      "Hobbies--> ['swimming']\n",
      "None\n"
     ]
    }
   ],
   "source": [
    "print(s1.name)\n",
    "print(s1.doj)\n",
    "print(s1.email)\n",
    "print(s1.marks)\n",
    "print(s1.get_student_info())"
   ]
  },
  {
   "cell_type": "code",
   "execution_count": null,
   "id": "c3d91c25",
   "metadata": {},
   "outputs": [],
   "source": []
  }
 ],
 "metadata": {
  "kernelspec": {
   "display_name": "venv",
   "language": "python",
   "name": "python3"
  },
  "language_info": {
   "codemirror_mode": {
    "name": "ipython",
    "version": 3
   },
   "file_extension": ".py",
   "mimetype": "text/x-python",
   "name": "python",
   "nbconvert_exporter": "python",
   "pygments_lexer": "ipython3",
   "version": "3.13.5"
  }
 },
 "nbformat": 4,
 "nbformat_minor": 5
}
