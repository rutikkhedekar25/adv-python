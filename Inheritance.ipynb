{
 "cells": [
  {
   "cell_type": "code",
   "execution_count": 3,
   "id": "bda9b14d",
   "metadata": {},
   "outputs": [],
   "source": [
    "from dataclasses import dataclass"
   ]
  },
  {
   "cell_type": "code",
   "execution_count": 4,
   "id": "52f00e98",
   "metadata": {},
   "outputs": [],
   "source": [
    "@dataclass\n",
    "class Triangle :\n",
    "    s1 : int|float\n",
    "    s2 : int|float\n",
    "    s3 : int|float\n",
    "\n",
    "    def is_triangle(self):\n",
    "        if (self.s1 + self.s2 > self.s3) and (self.s2 + self.s3 > self.s1) and (self.s1 + self.s3 > self.s2):\n",
    "            return True\n",
    "        \n",
    "        else:\n",
    "            return(f\"Triangle is not formed\")\n",
    "        \n",
    "    def perimeter(self):\n",
    "        if self.is_triangle == True:\n",
    "            p = self.s1 + self.s2 + self.s3\n",
    "            return p\n",
    "\n",
    "\n",
    "    def Area(self):\n",
    "        if self.perimeter() is not None:\n",
    "            s = self.perimete()/2\n",
    "            area = (s*(s-self.s1)*(s-self.s2)*(s-self.s3))**1/2\n",
    "            return area\n",
    "          \n",
    "        \n",
    "      \n",
    "    "
   ]
  },
  {
   "cell_type": "code",
   "execution_count": 5,
   "id": "2b9d44c2",
   "metadata": {},
   "outputs": [],
   "source": [
    "T1 = Triangle(23,45,56)"
   ]
  },
  {
   "cell_type": "code",
   "execution_count": 6,
   "id": "c3e920db",
   "metadata": {},
   "outputs": [
    {
     "data": {
      "text/plain": [
       "True"
      ]
     },
     "execution_count": 6,
     "metadata": {},
     "output_type": "execute_result"
    }
   ],
   "source": [
    "T1.is_triangle()"
   ]
  },
  {
   "cell_type": "code",
   "execution_count": 7,
   "id": "60e8132c",
   "metadata": {},
   "outputs": [],
   "source": [
    "T1.perimeter()"
   ]
  },
  {
   "cell_type": "code",
   "execution_count": 8,
   "id": "e4632b3e",
   "metadata": {},
   "outputs": [],
   "source": [
    "T1.Area()"
   ]
  },
  {
   "cell_type": "code",
   "execution_count": 9,
   "id": "16feaec2",
   "metadata": {},
   "outputs": [],
   "source": [
    "T2 = Triangle(13,16,2)"
   ]
  },
  {
   "cell_type": "code",
   "execution_count": 10,
   "id": "76b48316",
   "metadata": {},
   "outputs": [
    {
     "data": {
      "text/plain": [
       "'Triangle is not formed'"
      ]
     },
     "execution_count": 10,
     "metadata": {},
     "output_type": "execute_result"
    }
   ],
   "source": [
    "T2.is_triangle()"
   ]
  },
  {
   "cell_type": "code",
   "execution_count": 11,
   "id": "ac69ab49",
   "metadata": {},
   "outputs": [
    {
     "name": "stdout",
     "output_type": "stream",
     "text": [
      "None\n"
     ]
    }
   ],
   "source": [
    "print(T2.perimeter())"
   ]
  },
  {
   "cell_type": "code",
   "execution_count": 12,
   "id": "25be9126",
   "metadata": {},
   "outputs": [],
   "source": [
    "T2.Area()"
   ]
  },
  {
   "cell_type": "code",
   "execution_count": 13,
   "id": "d13ba3ab",
   "metadata": {},
   "outputs": [],
   "source": [
    "T1 = Triangle(23,45,56)\n",
    "T2 = Triangle(2,3,4)\n",
    "T3 = Triangle(13,16,2)"
   ]
  },
  {
   "cell_type": "code",
   "execution_count": 19,
   "id": "30712bc6",
   "metadata": {},
   "outputs": [
    {
     "name": "stdout",
     "output_type": "stream",
     "text": [
      "Triangle(s1=23, s2=45, s3=56) True\n",
      "perimeter None\n",
      "Area None\n",
      "-------------------------\n",
      "Triangle(s1=2, s2=3, s3=4) True\n",
      "perimeter None\n",
      "Area None\n",
      "-------------------------\n",
      "Triangle(s1=13, s2=16, s3=2) Triangle is not formed\n",
      "perimeter None\n",
      "Area None\n",
      "-------------------------\n"
     ]
    }
   ],
   "source": [
    "for i in[T1,T2,T3]:\n",
    "    print(i,i.is_triangle())\n",
    "    print('perimeter',i.perimeter())\n",
    "    print('Area',i.Area())\n",
    "    print('-------------------------')"
   ]
  },
  {
   "cell_type": "code",
   "execution_count": 35,
   "id": "390eda10",
   "metadata": {},
   "outputs": [],
   "source": [
    "# Create class for creating simple calculator , add, substraction, multiplication, division\n",
    "\n",
    "\n",
    "@dataclass\n",
    "class Calculator:\n",
    "    x : int|float\n",
    "    y : int|float\n",
    "\n",
    "    def addition(self):\n",
    "        if isinstance(self.x, (int , float)) and isinstance(self.y,(int, float)):\n",
    "            return self.x + self.y\n",
    "        \n",
    "    def subtraction(self):\n",
    "        if isinstance(self.x , (int, float)) and isinstance(self.y, (int,float)):\n",
    "            return self.x - self.y\n",
    "        \n",
    "    def product(self):\n",
    "        if self.addition() is not None:\n",
    "            return self.x*self.y\n",
    "        \n",
    "    def division(self):\n",
    "        if self.y != 0:\n",
    "            return self.x/self.y\n",
    "        else:\n",
    "            raise ZeroDivisionError('denominator should not zero')"
   ]
  },
  {
   "cell_type": "code",
   "execution_count": 40,
   "id": "99eceab3",
   "metadata": {},
   "outputs": [],
   "source": [
    "o1 = Calculator(12,0)"
   ]
  },
  {
   "cell_type": "code",
   "execution_count": 41,
   "id": "15d67111",
   "metadata": {},
   "outputs": [
    {
     "ename": "ZeroDivisionError",
     "evalue": "denominator should not zero",
     "output_type": "error",
     "traceback": [
      "\u001b[31m---------------------------------------------------------------------------\u001b[39m",
      "\u001b[31mZeroDivisionError\u001b[39m                         Traceback (most recent call last)",
      "\u001b[36mCell\u001b[39m\u001b[36m \u001b[39m\u001b[32mIn[41]\u001b[39m\u001b[32m, line 4\u001b[39m\n\u001b[32m      2\u001b[39m o1.product()\n\u001b[32m      3\u001b[39m o1.subtraction()\n\u001b[32m----> \u001b[39m\u001b[32m4\u001b[39m \u001b[43mo1\u001b[49m\u001b[43m.\u001b[49m\u001b[43mdivision\u001b[49m\u001b[43m(\u001b[49m\u001b[43m)\u001b[49m\n",
      "\u001b[36mCell\u001b[39m\u001b[36m \u001b[39m\u001b[32mIn[35]\u001b[39m\u001b[32m, line 25\u001b[39m, in \u001b[36mCalculator.division\u001b[39m\u001b[34m(self)\u001b[39m\n\u001b[32m     23\u001b[39m     \u001b[38;5;28;01mreturn\u001b[39;00m \u001b[38;5;28mself\u001b[39m.x/\u001b[38;5;28mself\u001b[39m.y\n\u001b[32m     24\u001b[39m \u001b[38;5;28;01melse\u001b[39;00m:\n\u001b[32m---> \u001b[39m\u001b[32m25\u001b[39m     \u001b[38;5;28;01mraise\u001b[39;00m \u001b[38;5;167;01mZeroDivisionError\u001b[39;00m(\u001b[33m'\u001b[39m\u001b[33mdenominator should not zero\u001b[39m\u001b[33m'\u001b[39m)\n",
      "\u001b[31mZeroDivisionError\u001b[39m: denominator should not zero"
     ]
    }
   ],
   "source": [
    "o1.addition()\n",
    "o1.product()\n",
    "o1.subtraction()\n",
    "o1.division()"
   ]
  },
  {
   "cell_type": "code",
   "execution_count": null,
   "id": "9eeb6f3c",
   "metadata": {},
   "outputs": [],
   "source": [
    "# inheritance"
   ]
  },
  {
   "cell_type": "code",
   "execution_count": 1,
   "id": "c7e54aa3",
   "metadata": {},
   "outputs": [],
   "source": [
    "class Person:\n",
    "    def __init__(self, name, age):\n",
    "        self.name = name\n",
    "        self.age = age\n",
    "    def introduce(self):\n",
    "        return(f'My name is {self.name} And i am {self.age} years old')\n",
    "    \n",
    "class employee(Person):\n",
    "    def __init__(self, name, age, company):\n",
    "        super().__init__(name,age)\n",
    "        self.company = company"
   ]
  },
  {
   "cell_type": "code",
   "execution_count": 2,
   "id": "bbd2556a",
   "metadata": {},
   "outputs": [],
   "source": [
    "p1 = Person(name = 'Rutik', age = 25)"
   ]
  },
  {
   "cell_type": "code",
   "execution_count": 3,
   "id": "6bbf832c",
   "metadata": {},
   "outputs": [
    {
     "data": {
      "text/plain": [
       "'Rutik'"
      ]
     },
     "execution_count": 3,
     "metadata": {},
     "output_type": "execute_result"
    }
   ],
   "source": [
    "p1.name"
   ]
  },
  {
   "cell_type": "code",
   "execution_count": 4,
   "id": "126f1130",
   "metadata": {},
   "outputs": [
    {
     "data": {
      "text/plain": [
       "25"
      ]
     },
     "execution_count": 4,
     "metadata": {},
     "output_type": "execute_result"
    }
   ],
   "source": [
    "p1.age"
   ]
  },
  {
   "cell_type": "code",
   "execution_count": 5,
   "id": "05642ae4",
   "metadata": {},
   "outputs": [
    {
     "data": {
      "text/plain": [
       "'My name is Rutik And i am 25 years old'"
      ]
     },
     "execution_count": 5,
     "metadata": {},
     "output_type": "execute_result"
    }
   ],
   "source": [
    "p1.introduce()"
   ]
  },
  {
   "cell_type": "code",
   "execution_count": 6,
   "id": "14110d6e",
   "metadata": {},
   "outputs": [],
   "source": [
    "p2 = Person(name = 'Akhil', age = 25)"
   ]
  },
  {
   "cell_type": "code",
   "execution_count": 7,
   "id": "a985d88b",
   "metadata": {},
   "outputs": [
    {
     "data": {
      "text/plain": [
       "'My name is Akhil And i am 25 years old'"
      ]
     },
     "execution_count": 7,
     "metadata": {},
     "output_type": "execute_result"
    }
   ],
   "source": [
    "p2.introduce()"
   ]
  },
  {
   "cell_type": "code",
   "execution_count": 8,
   "id": "135d600c",
   "metadata": {},
   "outputs": [],
   "source": [
    "e1 = employee(name = 'Ashish', age = 25, company = 'TCS')"
   ]
  },
  {
   "cell_type": "code",
   "execution_count": 9,
   "id": "d448bd6f",
   "metadata": {},
   "outputs": [
    {
     "name": "stdout",
     "output_type": "stream",
     "text": [
      "Ashish\n",
      "25\n",
      "TCS\n",
      "My name is Ashish And i am 25 years old\n"
     ]
    }
   ],
   "source": [
    "print(e1.name)\n",
    "print(e1.age)\n",
    "print(e1.company)\n",
    "print(e1.introduce())"
   ]
  },
  {
   "cell_type": "code",
   "execution_count": 16,
   "id": "27fec680",
   "metadata": {},
   "outputs": [],
   "source": [
    "class Person:\n",
    "    def __init__(self, name, age):\n",
    "        self.name = name\n",
    "        self.age = age\n",
    "    def introduce(self):\n",
    "        return(f'My name is {self.name} And i am {self.age} years old')\n",
    "    \n",
    "class employee(Person):\n",
    "    def __init__(self, name, age, company):\n",
    "        super().__init__(name,age)\n",
    "        self.company = company\n",
    "    \n",
    "    def work(self):\n",
    "        print(super().introduce())\n",
    "        return f'I work for {self.company}'"
   ]
  },
  {
   "cell_type": "code",
   "execution_count": 17,
   "id": "0998ffe4",
   "metadata": {},
   "outputs": [],
   "source": [
    "e2 = employee(name = 'Ameya', age = 29, company = 'Gallagher')"
   ]
  },
  {
   "cell_type": "code",
   "execution_count": 18,
   "id": "48ff3cce",
   "metadata": {},
   "outputs": [
    {
     "name": "stdout",
     "output_type": "stream",
     "text": [
      "My name is Ameya And i am 29 years old\n"
     ]
    },
    {
     "data": {
      "text/plain": [
       "'I work for Gallagher'"
      ]
     },
     "execution_count": 18,
     "metadata": {},
     "output_type": "execute_result"
    }
   ],
   "source": [
    "e2.work()"
   ]
  },
  {
   "cell_type": "code",
   "execution_count": 21,
   "id": "526e5c17",
   "metadata": {},
   "outputs": [
    {
     "data": {
      "text/plain": [
       "'My name is Ameya And i am 29 years old'"
      ]
     },
     "execution_count": 21,
     "metadata": {},
     "output_type": "execute_result"
    }
   ],
   "source": [
    "e2.introduce()"
   ]
  },
  {
   "cell_type": "code",
   "execution_count": null,
   "id": "2e94123b",
   "metadata": {},
   "outputs": [],
   "source": [
    "#Multilevel inheritance"
   ]
  },
  {
   "cell_type": "code",
   "execution_count": 37,
   "id": "77e64a59",
   "metadata": {},
   "outputs": [],
   "source": [
    "class Employee:\n",
    "    def __init__(self, name, id):\n",
    "        self.name = name\n",
    "        self.id = id\n",
    "\n",
    "    def get_employee_info(self):\n",
    "        print(f'Name:{self.name}, Id :{self.id}')\n",
    "\n",
    "    #child class manager\n",
    "class Manager(Employee):\n",
    "    def __init__(self, name, id, department):\n",
    "        super().__init__(name, id)\n",
    "        self.department = department\n",
    "\n",
    "    def get_manager_info(self):\n",
    "        return(f'{super().get_employee_info()}, department : {self.department}')\n",
    "    \n",
    "    #Grand Child class\n",
    "class Project_Manager(Manager):\n",
    "    def __init__(self, name, id, department, project):\n",
    "        super().__init__(name, id, department)\n",
    "        self.project = project\n",
    "\n",
    "    def get_project_Manager_info(self):\n",
    "        return(f'{super().get_Manager_info()}, project :{self.project}')"
   ]
  },
  {
   "cell_type": "code",
   "execution_count": 38,
   "id": "af566ca6",
   "metadata": {},
   "outputs": [],
   "source": [
    "E1 = Employee(name = 'Mahesh', id = 123)"
   ]
  },
  {
   "cell_type": "code",
   "execution_count": 39,
   "id": "2fa0fa99",
   "metadata": {},
   "outputs": [
    {
     "data": {
      "text/plain": [
       "'Mahesh'"
      ]
     },
     "execution_count": 39,
     "metadata": {},
     "output_type": "execute_result"
    }
   ],
   "source": [
    "E1.name"
   ]
  },
  {
   "cell_type": "code",
   "execution_count": 40,
   "id": "ef3d1955",
   "metadata": {},
   "outputs": [
    {
     "data": {
      "text/plain": [
       "123"
      ]
     },
     "execution_count": 40,
     "metadata": {},
     "output_type": "execute_result"
    }
   ],
   "source": [
    "E1.id"
   ]
  },
  {
   "cell_type": "code",
   "execution_count": 41,
   "id": "c4a3371d",
   "metadata": {},
   "outputs": [],
   "source": [
    "M1 = Manager(name = 'Rk', id = 456, department = 'CEO')"
   ]
  },
  {
   "cell_type": "code",
   "execution_count": 42,
   "id": "9dae6bb0",
   "metadata": {},
   "outputs": [
    {
     "name": "stdout",
     "output_type": "stream",
     "text": [
      "Name:Rk, Id :456\n"
     ]
    }
   ],
   "source": [
    "M1.get_employee_info()"
   ]
  },
  {
   "cell_type": "code",
   "execution_count": 43,
   "id": "e4766ed7",
   "metadata": {},
   "outputs": [
    {
     "name": "stdout",
     "output_type": "stream",
     "text": [
      "Name:Rk, Id :456\n"
     ]
    },
    {
     "data": {
      "text/plain": [
       "'None, department : CEO'"
      ]
     },
     "execution_count": 43,
     "metadata": {},
     "output_type": "execute_result"
    }
   ],
   "source": [
    "M1.get_manager_info()"
   ]
  },
  {
   "cell_type": "code",
   "execution_count": 48,
   "id": "e86b3bdf",
   "metadata": {},
   "outputs": [],
   "source": [
    "PM = Project_Manager(name = 'Chuch', id = 789, department = 'Dd', project = 'interior')"
   ]
  },
  {
   "cell_type": "code",
   "execution_count": 50,
   "id": "2e0abd0f",
   "metadata": {},
   "outputs": [
    {
     "data": {
      "text/plain": [
       "'interior'"
      ]
     },
     "execution_count": 50,
     "metadata": {},
     "output_type": "execute_result"
    }
   ],
   "source": [
    "PM.project"
   ]
  },
  {
   "cell_type": "code",
   "execution_count": 52,
   "id": "815b0165",
   "metadata": {},
   "outputs": [
    {
     "name": "stdout",
     "output_type": "stream",
     "text": [
      "Name:Chuch, Id :789\n"
     ]
    }
   ],
   "source": [
    "PM.get_employee_info()"
   ]
  },
  {
   "cell_type": "code",
   "execution_count": null,
   "id": "a54adff7",
   "metadata": {},
   "outputs": [],
   "source": []
  }
 ],
 "metadata": {
  "kernelspec": {
   "display_name": "venv",
   "language": "python",
   "name": "python3"
  },
  "language_info": {
   "codemirror_mode": {
    "name": "ipython",
    "version": 3
   },
   "file_extension": ".py",
   "mimetype": "text/x-python",
   "name": "python",
   "nbconvert_exporter": "python",
   "pygments_lexer": "ipython3",
   "version": "3.13.5"
  }
 },
 "nbformat": 4,
 "nbformat_minor": 5
}
