{
 "cells": [
  {
   "cell_type": "code",
   "execution_count": null,
   "id": "de94adf2",
   "metadata": {},
   "outputs": [],
   "source": [
    "# try\n",
    "# except"
   ]
  },
  {
   "cell_type": "code",
   "execution_count": null,
   "id": "6ecde037",
   "metadata": {},
   "outputs": [],
   "source": [
    "# create division function with exceptional handelling"
   ]
  },
  {
   "cell_type": "code",
   "execution_count": 1,
   "id": "ae337889",
   "metadata": {},
   "outputs": [],
   "source": [
    "def div():\n",
    "    try:\n",
    "        num = float(input('Enter numerator here'))\n",
    "        den = float(input('Enter denominator here'))\n",
    "        div = num/den\n",
    "        print(f'Division of {num} and {den} ----> {div}')\n",
    "        return div\n",
    "    \n",
    "    except Exception as e:\n",
    "        print(f'exception occured at {e}')\n",
    "        \n",
    "\n"
   ]
  },
  {
   "cell_type": "code",
   "execution_count": 2,
   "id": "6151b469",
   "metadata": {},
   "outputs": [
    {
     "name": "stdout",
     "output_type": "stream",
     "text": [
      "Division of 12.0 and 2.0 ----> 6.0\n"
     ]
    },
    {
     "data": {
      "text/plain": [
       "6.0"
      ]
     },
     "execution_count": 2,
     "metadata": {},
     "output_type": "execute_result"
    }
   ],
   "source": [
    "#check\n",
    "div()"
   ]
  },
  {
   "cell_type": "code",
   "execution_count": 4,
   "id": "e9339267",
   "metadata": {},
   "outputs": [
    {
     "name": "stdout",
     "output_type": "stream",
     "text": [
      "exception occured at could not convert string to float: ''\n",
      "hello python\n"
     ]
    }
   ],
   "source": [
    "div()\n",
    "print('hello python')"
   ]
  },
  {
   "cell_type": "code",
   "execution_count": 5,
   "id": "71fd1f5d",
   "metadata": {},
   "outputs": [
    {
     "name": "stdout",
     "output_type": "stream",
     "text": [
      "exception occured at could not convert string to float: \"'12'\"\n"
     ]
    }
   ],
   "source": [
    "div()"
   ]
  },
  {
   "cell_type": "code",
   "execution_count": 6,
   "id": "2aa7c963",
   "metadata": {},
   "outputs": [
    {
     "name": "stdout",
     "output_type": "stream",
     "text": [
      "exception occured at float division by zero\n"
     ]
    }
   ],
   "source": [
    "div()"
   ]
  },
  {
   "cell_type": "code",
   "execution_count": 10,
   "id": "d1e82f29",
   "metadata": {},
   "outputs": [
    {
     "name": "stdout",
     "output_type": "stream",
     "text": [
      "exception occured at float division by zero\n",
      "hello python\n",
      "1\n",
      "2\n",
      "3\n",
      "4\n",
      "5\n",
      "6\n",
      "7\n",
      "8\n",
      "9\n",
      "10\n"
     ]
    }
   ],
   "source": [
    "div()\n",
    "print('hello python')\n",
    "for i in range(1,11):\n",
    "     print(i)"
   ]
  },
  {
   "cell_type": "code",
   "execution_count": null,
   "id": "f407b656",
   "metadata": {},
   "outputs": [],
   "source": []
  }
 ],
 "metadata": {
  "kernelspec": {
   "display_name": "venv",
   "language": "python",
   "name": "python3"
  },
  "language_info": {
   "codemirror_mode": {
    "name": "ipython",
    "version": 3
   },
   "file_extension": ".py",
   "mimetype": "text/x-python",
   "name": "python",
   "nbconvert_exporter": "python",
   "pygments_lexer": "ipython3",
   "version": "3.13.3"
  }
 },
 "nbformat": 4,
 "nbformat_minor": 5
}
