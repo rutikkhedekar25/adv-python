{
 "cells": [
  {
   "cell_type": "code",
   "execution_count": 1,
   "id": "6995c8f4",
   "metadata": {},
   "outputs": [
    {
     "data": {
      "text/plain": [
       "'swaramere'"
      ]
     },
     "execution_count": 1,
     "metadata": {},
     "output_type": "execute_result"
    }
   ],
   "source": [
    "s = 'swara'\n",
    "m = 'mere'\n",
    "s + m "
   ]
  },
  {
   "cell_type": "code",
   "execution_count": 2,
   "id": "306d9d73",
   "metadata": {},
   "outputs": [
    {
     "data": {
      "text/plain": [
       "35"
      ]
     },
     "execution_count": 2,
     "metadata": {},
     "output_type": "execute_result"
    }
   ],
   "source": [
    "12 + 23"
   ]
  },
  {
   "cell_type": "code",
   "execution_count": 3,
   "id": "ebd6accd",
   "metadata": {},
   "outputs": [],
   "source": [
    "class India:\n",
    "    def Capital(self):\n",
    "        print('Capital of India is Delhi')\n",
    "\n",
    "    def Language(self):\n",
    "        print('National Language of India is Hindi')\n",
    "    \n",
    "\n",
    "class USA:\n",
    "    def Capital(self):\n",
    "        print('Capital of USA is Washington DC')\n",
    "\n",
    "    def Language(self):\n",
    "        print('National Language of USA is English')\n",
    "\n",
    "\n",
    "class FRANCE:\n",
    "    def Capital(self):\n",
    "        print('Capital of FRANCE is Paris')\n",
    "\n",
    "    def Language(self):\n",
    "        print('National Language of FRANCE is French')"
   ]
  },
  {
   "cell_type": "code",
   "execution_count": 4,
   "id": "da2fa8f5",
   "metadata": {},
   "outputs": [],
   "source": [
    "i1 = India()"
   ]
  },
  {
   "cell_type": "code",
   "execution_count": 5,
   "id": "2762acc1",
   "metadata": {},
   "outputs": [
    {
     "name": "stdout",
     "output_type": "stream",
     "text": [
      "Capital of India is Delhi\n"
     ]
    }
   ],
   "source": [
    "i1.Capital()"
   ]
  },
  {
   "cell_type": "code",
   "execution_count": 6,
   "id": "639ba9cb",
   "metadata": {},
   "outputs": [
    {
     "name": "stdout",
     "output_type": "stream",
     "text": [
      "National Language of India is Hindi\n"
     ]
    }
   ],
   "source": [
    "i1.Language()"
   ]
  },
  {
   "cell_type": "code",
   "execution_count": 7,
   "id": "e9a9cfaa",
   "metadata": {},
   "outputs": [],
   "source": [
    "u1 = USA()"
   ]
  },
  {
   "cell_type": "code",
   "execution_count": 8,
   "id": "18431fc2",
   "metadata": {},
   "outputs": [
    {
     "name": "stdout",
     "output_type": "stream",
     "text": [
      "Capital of USA is Washington DC\n"
     ]
    }
   ],
   "source": [
    "u1.Capital()"
   ]
  },
  {
   "cell_type": "code",
   "execution_count": 9,
   "id": "ef6fc1a8",
   "metadata": {},
   "outputs": [
    {
     "name": "stdout",
     "output_type": "stream",
     "text": [
      "National Language of USA is English\n"
     ]
    }
   ],
   "source": [
    "u1.Language()"
   ]
  },
  {
   "cell_type": "code",
   "execution_count": 11,
   "id": "3a0f10c8",
   "metadata": {},
   "outputs": [],
   "source": [
    "f1 = FRANCE()"
   ]
  },
  {
   "cell_type": "code",
   "execution_count": 12,
   "id": "ea1ba87d",
   "metadata": {},
   "outputs": [
    {
     "name": "stdout",
     "output_type": "stream",
     "text": [
      "Capital of FRANCE is Paris\n"
     ]
    }
   ],
   "source": [
    "f1.Capital()"
   ]
  },
  {
   "cell_type": "code",
   "execution_count": 13,
   "id": "af61c63a",
   "metadata": {},
   "outputs": [
    {
     "name": "stdout",
     "output_type": "stream",
     "text": [
      "National Language of FRANCE is French\n"
     ]
    }
   ],
   "source": [
    "f1.Language()"
   ]
  },
  {
   "cell_type": "code",
   "execution_count": 16,
   "id": "7a176cce",
   "metadata": {},
   "outputs": [
    {
     "name": "stdout",
     "output_type": "stream",
     "text": [
      "National Language of India is Hindi\n",
      "None\n",
      "Capital of India is Delhi\n",
      "None\n",
      "\n",
      "\n",
      "National Language of USA is English\n",
      "None\n",
      "Capital of USA is Washington DC\n",
      "None\n",
      "\n",
      "\n",
      "National Language of FRANCE is French\n",
      "None\n",
      "Capital of FRANCE is Paris\n",
      "None\n",
      "\n",
      "\n"
     ]
    }
   ],
   "source": [
    "for i in [i1, u1, f1]:\n",
    "    print(i.Language())\n",
    "    print(i.Capital())\n",
    "    print()\n",
    "    print()"
   ]
  },
  {
   "cell_type": "code",
   "execution_count": 14,
   "id": "59e847c9",
   "metadata": {},
   "outputs": [
    {
     "ename": "NameError",
     "evalue": "name 'England' is not defined",
     "output_type": "error",
     "traceback": [
      "\u001b[31m---------------------------------------------------------------------------\u001b[39m",
      "\u001b[31mNameError\u001b[39m                                 Traceback (most recent call last)",
      "\u001b[36mCell\u001b[39m\u001b[36m \u001b[39m\u001b[32mIn[14]\u001b[39m\u001b[32m, line 1\u001b[39m\n\u001b[32m----> \u001b[39m\u001b[32m1\u001b[39m e1 = \u001b[43mEngland\u001b[49m\n",
      "\u001b[31mNameError\u001b[39m: name 'England' is not defined"
     ]
    }
   ],
   "source": [
    "e1 = England"
   ]
  },
  {
   "cell_type": "code",
   "execution_count": null,
   "id": "b97ed1b9",
   "metadata": {},
   "outputs": [],
   "source": [
    "# Create Function for finding area and Perimeter of Circle and Square"
   ]
  },
  {
   "cell_type": "code",
   "execution_count": 24,
   "id": "dbc0b107",
   "metadata": {},
   "outputs": [],
   "source": [
    "from dataclasses import dataclass\n",
    "@dataclass\n",
    "class Circle:\n",
    "    r:int|float\n",
    "\n",
    "    def Area(self):\n",
    "        Area = 3.14*self.r**2\n",
    "        return f\"Area of Circle is {Area}\"\n",
    "    \n",
    "    def Perimeter(self):\n",
    "        Perimeter = 2*3.14*self.r\n",
    "        return f\"Perimeter of Circle {Perimeter}\""
   ]
  },
  {
   "cell_type": "code",
   "execution_count": 25,
   "id": "7c2b1c81",
   "metadata": {},
   "outputs": [],
   "source": [
    "c1= Circle(2)"
   ]
  },
  {
   "cell_type": "code",
   "execution_count": 26,
   "id": "98463ab0",
   "metadata": {},
   "outputs": [
    {
     "data": {
      "text/plain": [
       "'Area of Circle is 12.56'"
      ]
     },
     "execution_count": 26,
     "metadata": {},
     "output_type": "execute_result"
    }
   ],
   "source": [
    "c1.Area()"
   ]
  },
  {
   "cell_type": "code",
   "execution_count": 27,
   "id": "7f5cd09b",
   "metadata": {},
   "outputs": [
    {
     "data": {
      "text/plain": [
       "'Perimeter of Circle 12.56'"
      ]
     },
     "execution_count": 27,
     "metadata": {},
     "output_type": "execute_result"
    }
   ],
   "source": [
    "c1.Perimeter()"
   ]
  },
  {
   "cell_type": "code",
   "execution_count": 33,
   "id": "ed688ef7",
   "metadata": {},
   "outputs": [],
   "source": [
    "# Creat class for Rectangle\n",
    "@dataclass\n",
    "class Rectangle:\n",
    "    s1 :int|float\n",
    "    s2 :int|float\n",
    "    \n",
    "    def Area(self):\n",
    "     Area = 2*self.s1*self.s2\n",
    "     return f\"Area of Rectangle is {Area}\"\n",
    "    \n",
    "    def Perimeter(self):\n",
    "        Perimeter = 2*(self.s1+self.s2)\n",
    "        return f\"Perimeter of Rectanlge{Perimeter}\""
   ]
  },
  {
   "cell_type": "code",
   "execution_count": 35,
   "id": "6d39c268",
   "metadata": {},
   "outputs": [],
   "source": [
    "R1 = Rectangle(2,4)"
   ]
  },
  {
   "cell_type": "code",
   "execution_count": 36,
   "id": "24647661",
   "metadata": {},
   "outputs": [
    {
     "data": {
      "text/plain": [
       "'Area of Rectangle is 16'"
      ]
     },
     "execution_count": 36,
     "metadata": {},
     "output_type": "execute_result"
    }
   ],
   "source": [
    "R1.Area()"
   ]
  },
  {
   "cell_type": "code",
   "execution_count": 37,
   "id": "f5d2c3c0",
   "metadata": {},
   "outputs": [
    {
     "data": {
      "text/plain": [
       "'Perimeter of Rectanlge12'"
      ]
     },
     "execution_count": 37,
     "metadata": {},
     "output_type": "execute_result"
    }
   ],
   "source": [
    "R1.Perimeter()"
   ]
  },
  {
   "cell_type": "code",
   "execution_count": null,
   "id": "7d845fb2",
   "metadata": {},
   "outputs": [],
   "source": []
  },
  {
   "cell_type": "code",
   "execution_count": null,
   "id": "2ea0d2f3",
   "metadata": {},
   "outputs": [],
   "source": []
  },
  {
   "cell_type": "code",
   "execution_count": null,
   "id": "8e167327",
   "metadata": {},
   "outputs": [],
   "source": []
  },
  {
   "cell_type": "code",
   "execution_count": null,
   "id": "37147ba7",
   "metadata": {},
   "outputs": [],
   "source": []
  },
  {
   "cell_type": "code",
   "execution_count": null,
   "id": "cda3516c",
   "metadata": {},
   "outputs": [],
   "source": []
  },
  {
   "cell_type": "code",
   "execution_count": null,
   "id": "28848161",
   "metadata": {},
   "outputs": [],
   "source": []
  },
  {
   "cell_type": "code",
   "execution_count": null,
   "id": "811be846",
   "metadata": {},
   "outputs": [],
   "source": []
  },
  {
   "cell_type": "code",
   "execution_count": null,
   "id": "70af0376",
   "metadata": {},
   "outputs": [],
   "source": []
  },
  {
   "cell_type": "code",
   "execution_count": null,
   "id": "64ac54f0",
   "metadata": {},
   "outputs": [],
   "source": []
  },
  {
   "cell_type": "code",
   "execution_count": null,
   "id": "2b3ecf66",
   "metadata": {},
   "outputs": [],
   "source": []
  },
  {
   "cell_type": "code",
   "execution_count": null,
   "id": "383f1c27",
   "metadata": {},
   "outputs": [],
   "source": []
  },
  {
   "cell_type": "code",
   "execution_count": null,
   "id": "5af7d546",
   "metadata": {},
   "outputs": [],
   "source": []
  },
  {
   "cell_type": "code",
   "execution_count": null,
   "id": "fc6f5901",
   "metadata": {},
   "outputs": [],
   "source": []
  }
 ],
 "metadata": {
  "kernelspec": {
   "display_name": "venv",
   "language": "python",
   "name": "python3"
  },
  "language_info": {
   "codemirror_mode": {
    "name": "ipython",
    "version": 3
   },
   "file_extension": ".py",
   "mimetype": "text/x-python",
   "name": "python",
   "nbconvert_exporter": "python",
   "pygments_lexer": "ipython3",
   "version": "3.13.7"
  }
 },
 "nbformat": 4,
 "nbformat_minor": 5
}
